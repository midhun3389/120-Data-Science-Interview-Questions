{
  "nbformat": 4,
  "nbformat_minor": 0,
  "metadata": {
    "colab": {
      "name": "Untitled0.ipynb",
      "version": "0.3.2",
      "provenance": [],
      "collapsed_sections": [],
      "include_colab_link": true
    },
    "kernelspec": {
      "name": "python3",
      "display_name": "Python 3"
    },
    "accelerator": "GPU"
  },
  "cells": [
    {
      "cell_type": "markdown",
      "metadata": {
        "id": "view-in-github",
        "colab_type": "text"
      },
      "source": [
        "<a href=\"https://colab.research.google.com/github/midhun3389/120-Data-Science-Interview-Questions/blob/master/image%20classification.ipynb\" target=\"_parent\"><img src=\"https://colab.research.google.com/assets/colab-badge.svg\" alt=\"Open In Colab\"/></a>"
      ]
    },
    {
      "cell_type": "code",
      "metadata": {
        "id": "0Us_F7H5LHvh",
        "colab_type": "code",
        "colab": {}
      },
      "source": [
        "from google.colab import drive\n",
        "drive.mount('/content/drive')"
      ],
      "execution_count": 0,
      "outputs": []
    },
    {
      "cell_type": "code",
      "metadata": {
        "id": "L8deyFFtEL4B",
        "colab_type": "code",
        "colab": {}
      },
      "source": [
        "from keras.preprocessing.image import ImageDataGenerator\n",
        "from keras.preprocessing import image\n",
        "from matplotlib import pyplot as plt"
      ],
      "execution_count": 0,
      "outputs": []
    },
    {
      "cell_type": "code",
      "metadata": {
        "id": "OFuY-gpbdYhF",
        "colab_type": "code",
        "outputId": "b9d866f8-af2c-4ad3-b566-6d047706c0b4",
        "colab": {
          "resources": {
            "http://localhost:8080/nbextensions/google.colab/files.js": {
              "data": "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",
              "ok": true,
              "headers": [
                [
                  "content-type",
                  "application/javascript"
                ]
              ],
              "status": 200,
              "status_text": ""
            }
          },
          "base_uri": "https://localhost:8080/",
          "height": 74
        }
      },
      "source": [
        "from google.colab import files\n",
        "uploaded = files.upload()"
      ],
      "execution_count": 0,
      "outputs": [
        {
          "output_type": "display_data",
          "data": {
            "text/html": [
              "\n",
              "     <input type=\"file\" id=\"files-36d106d1-5760-434f-bd8f-5a4c0b069561\" name=\"files[]\" multiple disabled />\n",
              "     <output id=\"result-36d106d1-5760-434f-bd8f-5a4c0b069561\">\n",
              "      Upload widget is only available when the cell has been executed in the\n",
              "      current browser session. Please rerun this cell to enable.\n",
              "      </output>\n",
              "      <script src=\"/nbextensions/google.colab/files.js\"></script> "
            ],
            "text/plain": [
              "<IPython.core.display.HTML object>"
            ]
          },
          "metadata": {
            "tags": []
          }
        },
        {
          "output_type": "stream",
          "text": [
            "Saving catdogedit.zip to catdogedit.zip\n"
          ],
          "name": "stdout"
        }
      ]
    },
    {
      "cell_type": "code",
      "metadata": {
        "id": "H9o8_t9xrmXK",
        "colab_type": "code",
        "outputId": "01f261cf-baae-4174-81b8-c697446697fb",
        "colab": {
          "base_uri": "https://localhost:8080/",
          "height": 1000
        }
      },
      "source": [
        "!unzip \"/content/catdogedit.zip\""
      ],
      "execution_count": 0,
      "outputs": [
        {
          "output_type": "stream",
          "text": [
            "Archive:  /content/catdogedit.zip\n",
            "   creating: test_set/\n",
            "  inflating: test_set/.DS_Store      \n",
            "   creating: test_set/cats/\n",
            "  inflating: test_set/cats/.DS_Store  \n",
            "  inflating: test_set/cats/cat.4001.jpg  \n",
            "  inflating: test_set/cats/cat.4002.jpg  \n",
            "  inflating: test_set/cats/cat.4003.jpg  \n",
            "  inflating: test_set/cats/cat.4004.jpg  \n",
            "  inflating: test_set/cats/cat.4005.jpg  \n",
            "  inflating: test_set/cats/cat.4006.jpg  \n",
            "  inflating: test_set/cats/cat.4007.jpg  \n",
            "  inflating: test_set/cats/cat.4008.jpg  \n",
            "  inflating: test_set/cats/cat.4009.jpg  \n",
            "  inflating: test_set/cats/cat.4010.jpg  \n",
            "  inflating: test_set/cats/cat.4011.jpg  \n",
            "  inflating: test_set/cats/cat.4012.jpg  \n",
            "  inflating: test_set/cats/cat.4013.jpg  \n",
            "  inflating: test_set/cats/cat.4014.jpg  \n",
            "  inflating: test_set/cats/cat.4015.jpg  \n",
            "  inflating: test_set/cats/cat.4016.jpg  \n",
            "  inflating: test_set/cats/cat.4017.jpg  \n",
            "  inflating: test_set/cats/cat.4018.jpg  \n",
            "  inflating: test_set/cats/cat.4019.jpg  \n",
            "  inflating: test_set/cats/cat.4020.jpg  \n",
            "  inflating: test_set/cats/cat.4021.jpg  \n",
            "  inflating: test_set/cats/cat.4022.jpg  \n",
            "  inflating: test_set/cats/cat.4023.jpg  \n",
            "  inflating: test_set/cats/cat.4024.jpg  \n",
            "  inflating: test_set/cats/cat.4025.jpg  \n",
            "  inflating: test_set/cats/cat.4026.jpg  \n",
            "  inflating: test_set/cats/cat.4027.jpg  \n",
            "  inflating: test_set/cats/cat.4028.jpg  \n",
            "  inflating: test_set/cats/cat.4029.jpg  \n",
            "  inflating: test_set/cats/cat.4030.jpg  \n",
            "  inflating: test_set/cats/cat.4031.jpg  \n",
            "  inflating: test_set/cats/cat.4032.jpg  \n",
            "  inflating: test_set/cats/cat.4033.jpg  \n",
            "  inflating: test_set/cats/cat.4034.jpg  \n",
            "  inflating: test_set/cats/cat.4035.jpg  \n",
            "  inflating: test_set/cats/cat.4036.jpg  \n",
            "  inflating: test_set/cats/cat.4037.jpg  \n",
            "  inflating: test_set/cats/cat.4038.jpg  \n",
            "  inflating: test_set/cats/cat.4039.jpg  \n",
            "  inflating: test_set/cats/cat.4040.jpg  \n",
            "  inflating: test_set/cats/cat.4041.jpg  \n",
            "  inflating: test_set/cats/cat.4042.jpg  \n",
            "  inflating: test_set/cats/cat.4043.jpg  \n",
            "  inflating: test_set/cats/cat.4044.jpg  \n",
            "  inflating: test_set/cats/cat.4045.jpg  \n",
            "  inflating: test_set/cats/cat.4046.jpg  \n",
            "  inflating: test_set/cats/cat.4047.jpg  \n",
            "  inflating: test_set/cats/cat.4048.jpg  \n",
            "  inflating: test_set/cats/cat.4049.jpg  \n",
            "  inflating: test_set/cats/cat.4050.jpg  \n",
            "  inflating: test_set/cats/cat.4051.jpg  \n",
            "  inflating: test_set/cats/cat.4052.jpg  \n",
            "  inflating: test_set/cats/cat.4053.jpg  \n",
            "  inflating: test_set/cats/cat.4054.jpg  \n",
            "  inflating: test_set/cats/cat.4055.jpg  \n",
            "  inflating: test_set/cats/cat.4056.jpg  \n",
            "  inflating: test_set/cats/cat.4057.jpg  \n",
            "  inflating: test_set/cats/cat.4058.jpg  \n",
            "  inflating: test_set/cats/cat.4059.jpg  \n",
            "  inflating: test_set/cats/cat.4060.jpg  \n",
            "  inflating: test_set/cats/cat.4061.jpg  \n",
            "  inflating: test_set/cats/cat.4062.jpg  \n",
            "  inflating: test_set/cats/cat.4063.jpg  \n",
            "  inflating: test_set/cats/cat.4064.jpg  \n",
            "  inflating: test_set/cats/cat.4065.jpg  \n",
            "  inflating: test_set/cats/cat.4066.jpg  \n",
            "  inflating: test_set/cats/cat.4067.jpg  \n",
            "  inflating: test_set/cats/cat.4068.jpg  \n",
            "  inflating: test_set/cats/cat.4069.jpg  \n",
            "  inflating: test_set/cats/cat.4070.jpg  \n",
            "  inflating: test_set/cats/cat.4071.jpg  \n",
            "  inflating: test_set/cats/cat.4072.jpg  \n",
            "  inflating: test_set/cats/cat.4073.jpg  \n",
            "  inflating: test_set/cats/cat.4074.jpg  \n",
            "  inflating: test_set/cats/cat.4075.jpg  \n",
            "  inflating: test_set/cats/cat.4076.jpg  \n",
            "  inflating: test_set/cats/cat.4077.jpg  \n",
            "  inflating: test_set/cats/cat.4078.jpg  \n",
            "  inflating: test_set/cats/cat.4079.jpg  \n",
            "  inflating: test_set/cats/cat.4080.jpg  \n",
            "  inflating: test_set/cats/cat.4081.jpg  \n",
            "  inflating: test_set/cats/cat.4082.jpg  \n",
            "  inflating: test_set/cats/cat.4083.jpg  \n",
            "  inflating: test_set/cats/cat.4084.jpg  \n",
            "  inflating: test_set/cats/cat.4085.jpg  \n",
            "  inflating: test_set/cats/cat.4086.jpg  \n",
            "  inflating: test_set/cats/cat.4087.jpg  \n",
            "  inflating: test_set/cats/cat.4088.jpg  \n",
            "  inflating: test_set/cats/cat.4089.jpg  \n",
            "  inflating: test_set/cats/cat.4090.jpg  \n",
            "  inflating: test_set/cats/cat.4091.jpg  \n",
            "  inflating: test_set/cats/cat.4092.jpg  \n",
            "  inflating: test_set/cats/cat.4093.jpg  \n",
            "  inflating: test_set/cats/cat.4094.jpg  \n",
            "  inflating: test_set/cats/cat.4095.jpg  \n",
            "  inflating: test_set/cats/cat.4096.jpg  \n",
            "  inflating: test_set/cats/cat.4097.jpg  \n",
            "  inflating: test_set/cats/cat.4098.jpg  \n",
            "  inflating: test_set/cats/cat.4099.jpg  \n",
            "  inflating: test_set/cats/cat.4100.jpg  \n",
            "  inflating: test_set/cats/cat.4101.jpg  \n",
            "  inflating: test_set/cats/cat.4102.jpg  \n",
            "  inflating: test_set/cats/cat.4103.jpg  \n",
            "  inflating: test_set/cats/cat.4104.jpg  \n",
            "  inflating: test_set/cats/cat.4105.jpg  \n",
            "  inflating: test_set/cats/cat.4106.jpg  \n",
            "  inflating: test_set/cats/cat.4107.jpg  \n",
            "  inflating: test_set/cats/cat.4108.jpg  \n",
            "  inflating: test_set/cats/cat.4109.jpg  \n",
            "  inflating: test_set/cats/cat.4110.jpg  \n",
            "  inflating: test_set/cats/cat.4111.jpg  \n",
            "  inflating: test_set/cats/cat.4112.jpg  \n",
            "  inflating: test_set/cats/cat.4113.jpg  \n",
            "  inflating: test_set/cats/cat.4114.jpg  \n",
            "  inflating: test_set/cats/cat.4115.jpg  \n",
            "  inflating: test_set/cats/cat.4116.jpg  \n",
            "  inflating: test_set/cats/cat.4117.jpg  \n",
            "  inflating: test_set/cats/cat.4118.jpg  \n",
            "  inflating: test_set/cats/cat.4119.jpg  \n",
            "  inflating: test_set/cats/cat.4120.jpg  \n",
            "  inflating: test_set/cats/cat.4121.jpg  \n",
            "  inflating: test_set/cats/cat.4122.jpg  \n",
            "  inflating: test_set/cats/cat.4123.jpg  \n",
            "  inflating: test_set/cats/cat.4124.jpg  \n",
            "  inflating: test_set/cats/cat.4125.jpg  \n",
            "  inflating: test_set/cats/cat.4126.jpg  \n",
            "  inflating: test_set/cats/cat.4127.jpg  \n",
            "  inflating: test_set/cats/cat.4128.jpg  \n",
            "  inflating: test_set/cats/cat.4129.jpg  \n",
            "  inflating: test_set/cats/cat.4130.jpg  \n",
            "  inflating: test_set/cats/cat.4131.jpg  \n",
            "  inflating: test_set/cats/cat.4132.jpg  \n",
            "  inflating: test_set/cats/cat.4133.jpg  \n",
            "   creating: test_set/dogs/\n",
            "  inflating: test_set/dogs/.DS_Store  \n",
            "  inflating: test_set/dogs/dog.4001.jpg  \n",
            "  inflating: test_set/dogs/dog.4002.jpg  \n",
            "  inflating: test_set/dogs/dog.4003.jpg  \n",
            "  inflating: test_set/dogs/dog.4004.jpg  \n",
            "  inflating: test_set/dogs/dog.4005.jpg  \n",
            "  inflating: test_set/dogs/dog.4006.jpg  \n",
            "  inflating: test_set/dogs/dog.4007.jpg  \n",
            "  inflating: test_set/dogs/dog.4008.jpg  \n",
            "  inflating: test_set/dogs/dog.4009.jpg  \n",
            "  inflating: test_set/dogs/dog.4010.jpg  \n",
            "  inflating: test_set/dogs/dog.4011.jpg  \n",
            "  inflating: test_set/dogs/dog.4012.jpg  \n",
            "  inflating: test_set/dogs/dog.4013.jpg  \n",
            "  inflating: test_set/dogs/dog.4014.jpg  \n",
            "  inflating: test_set/dogs/dog.4015.jpg  \n",
            "  inflating: test_set/dogs/dog.4016.jpg  \n",
            "  inflating: test_set/dogs/dog.4017.jpg  \n",
            "  inflating: test_set/dogs/dog.4018.jpg  \n",
            "  inflating: test_set/dogs/dog.4019.jpg  \n",
            "  inflating: test_set/dogs/dog.4020.jpg  \n",
            "  inflating: test_set/dogs/dog.4021.jpg  \n",
            "  inflating: test_set/dogs/dog.4022.jpg  \n",
            "  inflating: test_set/dogs/dog.4023.jpg  \n",
            "  inflating: test_set/dogs/dog.4024.jpg  \n",
            "  inflating: test_set/dogs/dog.4025.jpg  \n",
            "  inflating: test_set/dogs/dog.4026.jpg  \n",
            "  inflating: test_set/dogs/dog.4027.jpg  \n",
            "  inflating: test_set/dogs/dog.4028.jpg  \n",
            "  inflating: test_set/dogs/dog.4030.jpg  \n",
            "  inflating: test_set/dogs/dog.4031.jpg  \n",
            "  inflating: test_set/dogs/dog.4032.jpg  \n",
            "  inflating: test_set/dogs/dog.4033.jpg  \n",
            "  inflating: test_set/dogs/dog.4034.jpg  \n",
            "  inflating: test_set/dogs/dog.4035.jpg  \n",
            "  inflating: test_set/dogs/dog.4036.jpg  \n",
            "  inflating: test_set/dogs/dog.4037.jpg  \n",
            "  inflating: test_set/dogs/dog.4038.jpg  \n",
            "  inflating: test_set/dogs/dog.4039.jpg  \n",
            "  inflating: test_set/dogs/dog.4040.jpg  \n",
            "  inflating: test_set/dogs/dog.4041.jpg  \n",
            "  inflating: test_set/dogs/dog.4042.jpg  \n",
            "  inflating: test_set/dogs/dog.4043.jpg  \n",
            "  inflating: test_set/dogs/dog.4044.jpg  \n",
            "  inflating: test_set/dogs/dog.4045.jpg  \n",
            "  inflating: test_set/dogs/dog.4046.jpg  \n",
            "  inflating: test_set/dogs/dog.4047.jpg  \n",
            "  inflating: test_set/dogs/dog.4048.jpg  \n",
            "  inflating: test_set/dogs/dog.4049.jpg  \n",
            "  inflating: test_set/dogs/dog.4050.jpg  \n",
            "  inflating: test_set/dogs/dog.4051.jpg  \n",
            "  inflating: test_set/dogs/dog.4052.jpg  \n",
            "  inflating: test_set/dogs/dog.4053.jpg  \n",
            "  inflating: test_set/dogs/dog.4054.jpg  \n",
            "  inflating: test_set/dogs/dog.4055.jpg  \n",
            "  inflating: test_set/dogs/dog.4056.jpg  \n",
            "  inflating: test_set/dogs/dog.4057.jpg  \n",
            "  inflating: test_set/dogs/dog.4058.jpg  \n",
            "  inflating: test_set/dogs/dog.4059.jpg  \n",
            "  inflating: test_set/dogs/dog.4060.jpg  \n",
            "  inflating: test_set/dogs/dog.4061.jpg  \n",
            "  inflating: test_set/dogs/dog.4062.jpg  \n",
            "  inflating: test_set/dogs/dog.4063.jpg  \n",
            "  inflating: test_set/dogs/dog.4064.jpg  \n",
            "  inflating: test_set/dogs/dog.4065.jpg  \n",
            "  inflating: test_set/dogs/dog.4066.jpg  \n",
            "  inflating: test_set/dogs/dog.4067.jpg  \n",
            "  inflating: test_set/dogs/dog.4068.jpg  \n",
            "  inflating: test_set/dogs/dog.4069.jpg  \n",
            "  inflating: test_set/dogs/dog.4070.jpg  \n",
            "  inflating: test_set/dogs/dog.4071.jpg  \n",
            "  inflating: test_set/dogs/dog.4072.jpg  \n",
            "  inflating: test_set/dogs/dog.4073.jpg  \n",
            "  inflating: test_set/dogs/dog.4074.jpg  \n",
            "  inflating: test_set/dogs/dog.4075.jpg  \n",
            "  inflating: test_set/dogs/dog.4076.jpg  \n",
            "  inflating: test_set/dogs/dog.4077.jpg  \n",
            "  inflating: test_set/dogs/dog.4078.jpg  \n",
            "  inflating: test_set/dogs/dog.4079.jpg  \n",
            "  inflating: test_set/dogs/dog.4080.jpg  \n",
            "  inflating: test_set/dogs/dog.4081.jpg  \n",
            "  inflating: test_set/dogs/dog.4082.jpg  \n",
            "  inflating: test_set/dogs/dog.4083.jpg  \n",
            "  inflating: test_set/dogs/dog.4084.jpg  \n",
            "  inflating: test_set/dogs/dog.4085.jpg  \n",
            "  inflating: test_set/dogs/dog.4086.jpg  \n",
            "  inflating: test_set/dogs/dog.4087.jpg  \n",
            "  inflating: test_set/dogs/dog.4088.jpg  \n",
            "  inflating: test_set/dogs/dog.4089.jpg  \n",
            "  inflating: test_set/dogs/dog.4090.jpg  \n",
            "  inflating: test_set/dogs/dog.4091.jpg  \n",
            "  inflating: test_set/dogs/dog.4092.jpg  \n",
            "  inflating: test_set/dogs/dog.4093.jpg  \n",
            "  inflating: test_set/dogs/dog.4094.jpg  \n",
            "  inflating: test_set/dogs/dog.4095.jpg  \n",
            "  inflating: test_set/dogs/dog.4096.jpg  \n",
            "  inflating: test_set/dogs/dog.4097.jpg  \n",
            "  inflating: test_set/dogs/dog.4098.jpg  \n",
            "  inflating: test_set/dogs/dog.4099.jpg  \n",
            "  inflating: test_set/dogs/dog.4100.jpg  \n",
            "  inflating: test_set/dogs/dog.4101.jpg  \n",
            "  inflating: test_set/dogs/dog.4102.jpg  \n",
            "  inflating: test_set/dogs/dog.4103.jpg  \n",
            "  inflating: test_set/dogs/dog.4104.jpg  \n",
            "  inflating: test_set/dogs/dog.4105.jpg  \n",
            "  inflating: test_set/dogs/dog.4106.jpg  \n",
            "  inflating: test_set/dogs/dog.4107.jpg  \n",
            "  inflating: test_set/dogs/dog.4108.jpg  \n",
            "  inflating: test_set/dogs/dog.4109.jpg  \n",
            "  inflating: test_set/dogs/dog.4110.jpg  \n",
            "  inflating: test_set/dogs/dog.4111.jpg  \n",
            "  inflating: test_set/dogs/dog.4112.jpg  \n",
            "  inflating: test_set/dogs/dog.4113.jpg  \n",
            "  inflating: test_set/dogs/dog.4114.jpg  \n",
            "  inflating: test_set/dogs/dog.4115.jpg  \n",
            "  inflating: test_set/dogs/dog.4116.jpg  \n",
            "  inflating: test_set/dogs/dog.4117.jpg  \n",
            "  inflating: test_set/dogs/dog.4118.jpg  \n",
            "  inflating: test_set/dogs/dog.4119.jpg  \n",
            "  inflating: test_set/dogs/dog.4120.jpg  \n",
            "  inflating: test_set/dogs/dog.4121.jpg  \n",
            "  inflating: test_set/dogs/dog.4122.jpg  \n",
            "  inflating: test_set/dogs/dog.4123.jpg  \n",
            "  inflating: test_set/dogs/dog.4124.jpg  \n",
            "  inflating: test_set/dogs/dog.4125.jpg  \n",
            "  inflating: test_set/dogs/dog.4126.jpg  \n",
            "  inflating: test_set/dogs/dog.4127.jpg  \n",
            "  inflating: test_set/dogs/dog.4128.jpg  \n",
            "  inflating: test_set/dogs/dog.4129.jpg  \n",
            "  inflating: test_set/dogs/dog.4130.jpg  \n",
            "  inflating: test_set/dogs/dog.4131.jpg  \n",
            "  inflating: test_set/dogs/dog.4132.jpg  \n",
            "   creating: training_set/\n",
            "  inflating: training_set/.DS_Store  \n",
            "   creating: training_set/cats/\n",
            "  inflating: training_set/cats/.DS_Store  \n",
            "  inflating: training_set/cats/cat.1.jpg  \n",
            "  inflating: training_set/cats/cat.10.jpg  \n",
            "  inflating: training_set/cats/cat.100.jpg  \n",
            "  inflating: training_set/cats/cat.101.jpg  \n",
            "  inflating: training_set/cats/cat.102.jpg  \n",
            "  inflating: training_set/cats/cat.103.jpg  \n",
            "  inflating: training_set/cats/cat.104.jpg  \n",
            "  inflating: training_set/cats/cat.105.jpg  \n",
            "  inflating: training_set/cats/cat.106.jpg  \n",
            "  inflating: training_set/cats/cat.107.jpg  \n",
            "  inflating: training_set/cats/cat.108.jpg  \n",
            "  inflating: training_set/cats/cat.109.jpg  \n",
            "  inflating: training_set/cats/cat.11.jpg  \n",
            "  inflating: training_set/cats/cat.110.jpg  \n",
            "  inflating: training_set/cats/cat.111.jpg  \n",
            "  inflating: training_set/cats/cat.112.jpg  \n",
            "  inflating: training_set/cats/cat.113.jpg  \n",
            "  inflating: training_set/cats/cat.114.jpg  \n",
            "  inflating: training_set/cats/cat.115.jpg  \n",
            "  inflating: training_set/cats/cat.116.jpg  \n",
            "  inflating: training_set/cats/cat.117.jpg  \n",
            "  inflating: training_set/cats/cat.118.jpg  \n",
            "  inflating: training_set/cats/cat.119.jpg  \n",
            "  inflating: training_set/cats/cat.12.jpg  \n",
            "  inflating: training_set/cats/cat.120.jpg  \n",
            "  inflating: training_set/cats/cat.121.jpg  \n",
            "  inflating: training_set/cats/cat.122.jpg  \n",
            "  inflating: training_set/cats/cat.123.jpg  \n",
            "  inflating: training_set/cats/cat.124.jpg  \n",
            "  inflating: training_set/cats/cat.125.jpg  \n",
            "  inflating: training_set/cats/cat.126.jpg  \n",
            "  inflating: training_set/cats/cat.127.jpg  \n",
            "  inflating: training_set/cats/cat.128.jpg  \n",
            "  inflating: training_set/cats/cat.129.jpg  \n",
            "  inflating: training_set/cats/cat.13.jpg  \n",
            "  inflating: training_set/cats/cat.130.jpg  \n",
            "  inflating: training_set/cats/cat.131.jpg  \n",
            "  inflating: training_set/cats/cat.132.jpg  \n",
            "  inflating: training_set/cats/cat.133.jpg  \n",
            "  inflating: training_set/cats/cat.134.jpg  \n",
            "  inflating: training_set/cats/cat.135.jpg  \n",
            "  inflating: training_set/cats/cat.136.jpg  \n",
            "  inflating: training_set/cats/cat.137.jpg  \n",
            "  inflating: training_set/cats/cat.138.jpg  \n",
            "  inflating: training_set/cats/cat.139.jpg  \n",
            "  inflating: training_set/cats/cat.14.jpg  \n",
            "  inflating: training_set/cats/cat.140.jpg  \n",
            "  inflating: training_set/cats/cat.141.jpg  \n",
            "  inflating: training_set/cats/cat.142.jpg  \n",
            "  inflating: training_set/cats/cat.143.jpg  \n",
            "  inflating: training_set/cats/cat.144.jpg  \n",
            "  inflating: training_set/cats/cat.145.jpg  \n",
            "  inflating: training_set/cats/cat.146.jpg  \n",
            "  inflating: training_set/cats/cat.147.jpg  \n",
            "  inflating: training_set/cats/cat.148.jpg  \n",
            "  inflating: training_set/cats/cat.149.jpg  \n",
            "  inflating: training_set/cats/cat.15.jpg  \n",
            "  inflating: training_set/cats/cat.150.jpg  \n",
            "  inflating: training_set/cats/cat.151.jpg  \n",
            "  inflating: training_set/cats/cat.152.jpg  \n",
            "  inflating: training_set/cats/cat.153.jpg  \n",
            "  inflating: training_set/cats/cat.154.jpg  \n",
            "  inflating: training_set/cats/cat.155.jpg  \n",
            "  inflating: training_set/cats/cat.156.jpg  \n",
            "  inflating: training_set/cats/cat.157.jpg  \n",
            "  inflating: training_set/cats/cat.158.jpg  \n",
            "  inflating: training_set/cats/cat.159.jpg  \n",
            "  inflating: training_set/cats/cat.16.jpg  \n",
            "  inflating: training_set/cats/cat.160.jpg  \n",
            "  inflating: training_set/cats/cat.161.jpg  \n",
            "  inflating: training_set/cats/cat.162.jpg  \n",
            "  inflating: training_set/cats/cat.163.jpg  \n",
            "  inflating: training_set/cats/cat.164.jpg  \n",
            "  inflating: training_set/cats/cat.165.jpg  \n",
            "  inflating: training_set/cats/cat.166.jpg  \n",
            "  inflating: training_set/cats/cat.167.jpg  \n",
            "  inflating: training_set/cats/cat.168.jpg  \n",
            "  inflating: training_set/cats/cat.169.jpg  \n",
            "  inflating: training_set/cats/cat.17.jpg  \n",
            "  inflating: training_set/cats/cat.170.jpg  \n",
            "  inflating: training_set/cats/cat.171.jpg  \n",
            "  inflating: training_set/cats/cat.172.jpg  \n",
            "  inflating: training_set/cats/cat.173.jpg  \n",
            "  inflating: training_set/cats/cat.174.jpg  \n",
            "  inflating: training_set/cats/cat.175.jpg  \n",
            "  inflating: training_set/cats/cat.176.jpg  \n",
            "  inflating: training_set/cats/cat.177.jpg  \n",
            "  inflating: training_set/cats/cat.178.jpg  \n",
            "  inflating: training_set/cats/cat.179.jpg  \n",
            "  inflating: training_set/cats/cat.18.jpg  \n",
            "  inflating: training_set/cats/cat.180.jpg  \n",
            "  inflating: training_set/cats/cat.181.jpg  \n",
            "  inflating: training_set/cats/cat.182.jpg  \n",
            "  inflating: training_set/cats/cat.183.jpg  \n",
            "  inflating: training_set/cats/cat.184.jpg  \n",
            "  inflating: training_set/cats/cat.185.jpg  \n",
            "  inflating: training_set/cats/cat.186.jpg  \n",
            "  inflating: training_set/cats/cat.187.jpg  \n",
            "  inflating: training_set/cats/cat.188.jpg  \n",
            "  inflating: training_set/cats/cat.189.jpg  \n",
            "  inflating: training_set/cats/cat.19.jpg  \n",
            "  inflating: training_set/cats/cat.190.jpg  \n",
            "  inflating: training_set/cats/cat.191.jpg  \n",
            "  inflating: training_set/cats/cat.192.jpg  \n",
            "  inflating: training_set/cats/cat.193.jpg  \n",
            "  inflating: training_set/cats/cat.194.jpg  \n",
            "  inflating: training_set/cats/cat.195.jpg  \n",
            "  inflating: training_set/cats/cat.196.jpg  \n",
            "  inflating: training_set/cats/cat.197.jpg  \n",
            "  inflating: training_set/cats/cat.198.jpg  \n",
            "  inflating: training_set/cats/cat.199.jpg  \n",
            "  inflating: training_set/cats/cat.2.jpg  \n",
            "  inflating: training_set/cats/cat.20.jpg  \n",
            "  inflating: training_set/cats/cat.200.jpg  \n",
            "  inflating: training_set/cats/cat.201.jpg  \n",
            "  inflating: training_set/cats/cat.202.jpg  \n",
            "  inflating: training_set/cats/cat.203.jpg  \n",
            "  inflating: training_set/cats/cat.204.jpg  \n",
            "  inflating: training_set/cats/cat.205.jpg  \n",
            "  inflating: training_set/cats/cat.206.jpg  \n",
            "  inflating: training_set/cats/cat.207.jpg  \n",
            "  inflating: training_set/cats/cat.208.jpg  \n",
            "  inflating: training_set/cats/cat.209.jpg  \n",
            "  inflating: training_set/cats/cat.21.jpg  \n",
            "  inflating: training_set/cats/cat.210.jpg  \n",
            "  inflating: training_set/cats/cat.211.jpg  \n",
            "  inflating: training_set/cats/cat.212.jpg  \n",
            "  inflating: training_set/cats/cat.213.jpg  \n",
            "  inflating: training_set/cats/cat.214.jpg  \n",
            "  inflating: training_set/cats/cat.215.jpg  \n",
            "  inflating: training_set/cats/cat.216.jpg  \n",
            "  inflating: training_set/cats/cat.217.jpg  \n",
            "  inflating: training_set/cats/cat.218.jpg  \n",
            "  inflating: training_set/cats/cat.219.jpg  \n",
            "  inflating: training_set/cats/cat.22.jpg  \n",
            "  inflating: training_set/cats/cat.220.jpg  \n",
            "  inflating: training_set/cats/cat.221.jpg  \n",
            "  inflating: training_set/cats/cat.222.jpg  \n",
            "  inflating: training_set/cats/cat.223.jpg  \n",
            "  inflating: training_set/cats/cat.224.jpg  \n",
            "  inflating: training_set/cats/cat.225.jpg  \n",
            "  inflating: training_set/cats/cat.226.jpg  \n",
            "  inflating: training_set/cats/cat.227.jpg  \n",
            "  inflating: training_set/cats/cat.228.jpg  \n",
            "  inflating: training_set/cats/cat.229.jpg  \n",
            "  inflating: training_set/cats/cat.23.jpg  \n",
            "  inflating: training_set/cats/cat.230.jpg  \n",
            "  inflating: training_set/cats/cat.231.jpg  \n",
            "  inflating: training_set/cats/cat.232.jpg  \n",
            "  inflating: training_set/cats/cat.233.jpg  \n",
            "  inflating: training_set/cats/cat.234.jpg  \n",
            "  inflating: training_set/cats/cat.235.jpg  \n",
            "  inflating: training_set/cats/cat.236.jpg  \n",
            "  inflating: training_set/cats/cat.237.jpg  \n",
            "  inflating: training_set/cats/cat.238.jpg  \n",
            "  inflating: training_set/cats/cat.239.jpg  \n",
            "  inflating: training_set/cats/cat.24.jpg  \n",
            "  inflating: training_set/cats/cat.240.jpg  \n",
            "  inflating: training_set/cats/cat.241.jpg  \n",
            "  inflating: training_set/cats/cat.242.jpg  \n",
            "  inflating: training_set/cats/cat.243.jpg  \n",
            "  inflating: training_set/cats/cat.244.jpg  \n",
            "  inflating: training_set/cats/cat.245.jpg  \n",
            "  inflating: training_set/cats/cat.246.jpg  \n",
            "  inflating: training_set/cats/cat.247.jpg  \n",
            "  inflating: training_set/cats/cat.248.jpg  \n",
            "  inflating: training_set/cats/cat.249.jpg  \n",
            "  inflating: training_set/cats/cat.25.jpg  \n",
            "  inflating: training_set/cats/cat.250.jpg  \n",
            "  inflating: training_set/cats/cat.251.jpg  \n",
            "  inflating: training_set/cats/cat.252.jpg  \n",
            "  inflating: training_set/cats/cat.253.jpg  \n",
            "  inflating: training_set/cats/cat.254.jpg  \n",
            "  inflating: training_set/cats/cat.255.jpg  \n",
            "  inflating: training_set/cats/cat.256.jpg  \n",
            "  inflating: training_set/cats/cat.257.jpg  \n",
            "  inflating: training_set/cats/cat.258.jpg  \n",
            "  inflating: training_set/cats/cat.259.jpg  \n",
            "  inflating: training_set/cats/cat.26.jpg  \n",
            "  inflating: training_set/cats/cat.260.jpg  \n",
            "  inflating: training_set/cats/cat.261.jpg  \n",
            "  inflating: training_set/cats/cat.262.jpg  \n",
            "  inflating: training_set/cats/cat.263.jpg  \n",
            "  inflating: training_set/cats/cat.264.jpg  \n",
            "  inflating: training_set/cats/cat.265.jpg  \n",
            "  inflating: training_set/cats/cat.266.jpg  \n",
            "  inflating: training_set/cats/cat.267.jpg  \n",
            "  inflating: training_set/cats/cat.268.jpg  \n",
            "  inflating: training_set/cats/cat.269.jpg  \n",
            "  inflating: training_set/cats/cat.27.jpg  \n",
            "  inflating: training_set/cats/cat.270.jpg  \n",
            "  inflating: training_set/cats/cat.271.jpg  \n",
            "  inflating: training_set/cats/cat.272.jpg  \n",
            "  inflating: training_set/cats/cat.273.jpg  \n",
            "  inflating: training_set/cats/cat.274.jpg  \n",
            "  inflating: training_set/cats/cat.275.jpg  \n",
            "  inflating: training_set/cats/cat.276.jpg  \n",
            "  inflating: training_set/cats/cat.277.jpg  \n",
            "  inflating: training_set/cats/cat.278.jpg  \n",
            "  inflating: training_set/cats/cat.279.jpg  \n",
            "  inflating: training_set/cats/cat.28.jpg  \n",
            "  inflating: training_set/cats/cat.280.jpg  \n",
            "  inflating: training_set/cats/cat.281.jpg  \n",
            "  inflating: training_set/cats/cat.282.jpg  \n",
            "  inflating: training_set/cats/cat.283.jpg  \n",
            "  inflating: training_set/cats/cat.284.jpg  \n",
            "  inflating: training_set/cats/cat.285.jpg  \n",
            "  inflating: training_set/cats/cat.286.jpg  \n",
            "  inflating: training_set/cats/cat.287.jpg  \n",
            "  inflating: training_set/cats/cat.288.jpg  \n",
            "  inflating: training_set/cats/cat.289.jpg  \n",
            "  inflating: training_set/cats/cat.29.jpg  \n",
            "  inflating: training_set/cats/cat.290.jpg  \n",
            "  inflating: training_set/cats/cat.291.jpg  \n",
            "  inflating: training_set/cats/cat.292.jpg  \n",
            "  inflating: training_set/cats/cat.293.jpg  \n",
            "  inflating: training_set/cats/cat.294.jpg  \n",
            "  inflating: training_set/cats/cat.295.jpg  \n",
            "  inflating: training_set/cats/cat.296.jpg  \n",
            "  inflating: training_set/cats/cat.297.jpg  \n",
            "  inflating: training_set/cats/cat.298.jpg  \n",
            "  inflating: training_set/cats/cat.299.jpg  \n",
            "  inflating: training_set/cats/cat.3.jpg  \n",
            "  inflating: training_set/cats/cat.30.jpg  \n",
            "  inflating: training_set/cats/cat.300.jpg  \n",
            "  inflating: training_set/cats/cat.301.jpg  \n",
            "  inflating: training_set/cats/cat.302.jpg  \n",
            "  inflating: training_set/cats/cat.303.jpg  \n",
            "  inflating: training_set/cats/cat.304.jpg  \n",
            "  inflating: training_set/cats/cat.305.jpg  \n",
            "  inflating: training_set/cats/cat.306.jpg  \n",
            "  inflating: training_set/cats/cat.307.jpg  \n",
            "  inflating: training_set/cats/cat.308.jpg  \n",
            "  inflating: training_set/cats/cat.309.jpg  \n",
            "  inflating: training_set/cats/cat.31.jpg  \n",
            "  inflating: training_set/cats/cat.310.jpg  \n",
            "  inflating: training_set/cats/cat.311.jpg  \n",
            "  inflating: training_set/cats/cat.312.jpg  \n",
            "  inflating: training_set/cats/cat.313.jpg  \n",
            "  inflating: training_set/cats/cat.314.jpg  \n",
            "  inflating: training_set/cats/cat.315.jpg  \n",
            "  inflating: training_set/cats/cat.316.jpg  \n",
            "  inflating: training_set/cats/cat.317.jpg  \n",
            "  inflating: training_set/cats/cat.318.jpg  \n",
            "  inflating: training_set/cats/cat.319.jpg  \n",
            "  inflating: training_set/cats/cat.32.jpg  \n",
            "  inflating: training_set/cats/cat.320.jpg  \n",
            "  inflating: training_set/cats/cat.321.jpg  \n",
            "  inflating: training_set/cats/cat.322.jpg  \n",
            "  inflating: training_set/cats/cat.323.jpg  \n",
            "  inflating: training_set/cats/cat.324.jpg  \n",
            "  inflating: training_set/cats/cat.325.jpg  \n",
            "  inflating: training_set/cats/cat.326.jpg  \n",
            "  inflating: training_set/cats/cat.327.jpg  \n",
            "  inflating: training_set/cats/cat.328.jpg  \n",
            "  inflating: training_set/cats/cat.329.jpg  \n",
            "  inflating: training_set/cats/cat.33.jpg  \n",
            "  inflating: training_set/cats/cat.330.jpg  \n",
            "  inflating: training_set/cats/cat.331.jpg  \n",
            "  inflating: training_set/cats/cat.332.jpg  \n",
            "  inflating: training_set/cats/cat.333.jpg  \n",
            "  inflating: training_set/cats/cat.334.jpg  \n",
            "  inflating: training_set/cats/cat.335.jpg  \n",
            "  inflating: training_set/cats/cat.336.jpg  \n",
            "  inflating: training_set/cats/cat.337.jpg  \n",
            "  inflating: training_set/cats/cat.338.jpg  \n",
            "  inflating: training_set/cats/cat.339.jpg  \n",
            "  inflating: training_set/cats/cat.34.jpg  \n",
            "  inflating: training_set/cats/cat.340.jpg  \n",
            "  inflating: training_set/cats/cat.341.jpg  \n",
            "  inflating: training_set/cats/cat.342.jpg  \n",
            "  inflating: training_set/cats/cat.343.jpg  \n",
            "  inflating: training_set/cats/cat.344.jpg  \n",
            "  inflating: training_set/cats/cat.345.jpg  \n",
            "  inflating: training_set/cats/cat.346.jpg  \n",
            "  inflating: training_set/cats/cat.347.jpg  \n",
            "  inflating: training_set/cats/cat.348.jpg  \n",
            "  inflating: training_set/cats/cat.349.jpg  \n",
            "  inflating: training_set/cats/cat.35.jpg  \n",
            "  inflating: training_set/cats/cat.350.jpg  \n",
            "  inflating: training_set/cats/cat.351.jpg  \n",
            "  inflating: training_set/cats/cat.352.jpg  \n",
            "  inflating: training_set/cats/cat.353.jpg  \n",
            "  inflating: training_set/cats/cat.354.jpg  \n",
            "  inflating: training_set/cats/cat.355.jpg  \n",
            "  inflating: training_set/cats/cat.356.jpg  \n",
            "  inflating: training_set/cats/cat.357.jpg  \n",
            "  inflating: training_set/cats/cat.358.jpg  \n",
            "  inflating: training_set/cats/cat.359.jpg  \n",
            "  inflating: training_set/cats/cat.36.jpg  \n",
            "  inflating: training_set/cats/cat.360.jpg  \n",
            "  inflating: training_set/cats/cat.361.jpg  \n",
            "  inflating: training_set/cats/cat.362.jpg  \n",
            "  inflating: training_set/cats/cat.363.jpg  \n",
            "  inflating: training_set/cats/cat.364.jpg  \n",
            "  inflating: training_set/cats/cat.365.jpg  \n",
            "  inflating: training_set/cats/cat.366.jpg  \n",
            "  inflating: training_set/cats/cat.367.jpg  \n",
            "  inflating: training_set/cats/cat.368.jpg  \n",
            "  inflating: training_set/cats/cat.369.jpg  \n",
            "  inflating: training_set/cats/cat.37.jpg  \n",
            "  inflating: training_set/cats/cat.370.jpg  \n",
            "  inflating: training_set/cats/cat.371.jpg  \n",
            "  inflating: training_set/cats/cat.372.jpg  \n",
            "  inflating: training_set/cats/cat.373.jpg  \n",
            "  inflating: training_set/cats/cat.374.jpg  \n",
            "  inflating: training_set/cats/cat.375.jpg  \n",
            "  inflating: training_set/cats/cat.376.jpg  \n",
            "  inflating: training_set/cats/cat.377.jpg  \n",
            "  inflating: training_set/cats/cat.378.jpg  \n",
            "  inflating: training_set/cats/cat.379.jpg  \n",
            "  inflating: training_set/cats/cat.38.jpg  \n",
            "  inflating: training_set/cats/cat.380.jpg  \n",
            "  inflating: training_set/cats/cat.381.jpg  \n",
            "  inflating: training_set/cats/cat.382.jpg  \n",
            "  inflating: training_set/cats/cat.383.jpg  \n",
            "  inflating: training_set/cats/cat.384.jpg  \n",
            "  inflating: training_set/cats/cat.385.jpg  \n",
            "  inflating: training_set/cats/cat.386.jpg  \n",
            "  inflating: training_set/cats/cat.387.jpg  \n",
            "  inflating: training_set/cats/cat.388.jpg  \n",
            "  inflating: training_set/cats/cat.389.jpg  \n",
            "  inflating: training_set/cats/cat.39.jpg  \n",
            "  inflating: training_set/cats/cat.390.jpg  \n",
            "  inflating: training_set/cats/cat.391.jpg  \n",
            "  inflating: training_set/cats/cat.392.jpg  \n",
            "  inflating: training_set/cats/cat.393.jpg  \n",
            "  inflating: training_set/cats/cat.394.jpg  \n",
            "  inflating: training_set/cats/cat.395.jpg  \n",
            "  inflating: training_set/cats/cat.396.jpg  \n",
            "  inflating: training_set/cats/cat.397.jpg  \n",
            "  inflating: training_set/cats/cat.398.jpg  \n",
            "  inflating: training_set/cats/cat.399.jpg  \n",
            "  inflating: training_set/cats/cat.4.jpg  \n",
            "  inflating: training_set/cats/cat.40.jpg  \n",
            "  inflating: training_set/cats/cat.400.jpg  \n",
            "  inflating: training_set/cats/cat.401.jpg  \n",
            "  inflating: training_set/cats/cat.402.jpg  \n",
            "  inflating: training_set/cats/cat.403.jpg  \n",
            "  inflating: training_set/cats/cat.404.jpg  \n",
            "  inflating: training_set/cats/cat.405.jpg  \n",
            "  inflating: training_set/cats/cat.406.jpg  \n",
            "  inflating: training_set/cats/cat.407.jpg  \n",
            "  inflating: training_set/cats/cat.408.jpg  \n",
            "  inflating: training_set/cats/cat.409.jpg  \n",
            "  inflating: training_set/cats/cat.41.jpg  \n",
            "  inflating: training_set/cats/cat.410.jpg  \n",
            "  inflating: training_set/cats/cat.411.jpg  \n",
            "  inflating: training_set/cats/cat.412.jpg  \n",
            "  inflating: training_set/cats/cat.413.jpg  \n",
            "  inflating: training_set/cats/cat.414.jpg  \n",
            "  inflating: training_set/cats/cat.415.jpg  \n",
            "  inflating: training_set/cats/cat.416.jpg  \n",
            "  inflating: training_set/cats/cat.417.jpg  \n",
            "  inflating: training_set/cats/cat.418.jpg  \n",
            "  inflating: training_set/cats/cat.419.jpg  \n",
            "  inflating: training_set/cats/cat.42.jpg  \n",
            "  inflating: training_set/cats/cat.420.jpg  \n",
            "  inflating: training_set/cats/cat.421.jpg  \n",
            "  inflating: training_set/cats/cat.422.jpg  \n",
            "  inflating: training_set/cats/cat.423.jpg  \n",
            "  inflating: training_set/cats/cat.424.jpg  \n",
            "  inflating: training_set/cats/cat.425.jpg  \n",
            "  inflating: training_set/cats/cat.426.jpg  \n",
            "  inflating: training_set/cats/cat.427.jpg  \n",
            "  inflating: training_set/cats/cat.428.jpg  \n",
            "  inflating: training_set/cats/cat.429.jpg  \n",
            "  inflating: training_set/cats/cat.43.jpg  \n",
            "  inflating: training_set/cats/cat.430.jpg  \n",
            "  inflating: training_set/cats/cat.431.jpg  \n",
            "  inflating: training_set/cats/cat.432.jpg  \n",
            "  inflating: training_set/cats/cat.433.jpg  \n",
            "  inflating: training_set/cats/cat.434.jpg  \n",
            "  inflating: training_set/cats/cat.435.jpg  \n",
            "  inflating: training_set/cats/cat.436.jpg  \n",
            "  inflating: training_set/cats/cat.437.jpg  \n",
            "  inflating: training_set/cats/cat.438.jpg  \n",
            "  inflating: training_set/cats/cat.439.jpg  \n",
            "  inflating: training_set/cats/cat.44.jpg  \n",
            "  inflating: training_set/cats/cat.440.jpg  \n",
            "  inflating: training_set/cats/cat.441.jpg  \n",
            "  inflating: training_set/cats/cat.442.jpg  \n",
            "  inflating: training_set/cats/cat.443.jpg  \n",
            "  inflating: training_set/cats/cat.444.jpg  \n",
            "  inflating: training_set/cats/cat.445.jpg  \n",
            "  inflating: training_set/cats/cat.446.jpg  \n",
            "  inflating: training_set/cats/cat.447.jpg  \n",
            "  inflating: training_set/cats/cat.448.jpg  \n",
            "  inflating: training_set/cats/cat.449.jpg  \n",
            "  inflating: training_set/cats/cat.45.jpg  \n",
            "  inflating: training_set/cats/cat.450.jpg  \n",
            "  inflating: training_set/cats/cat.451.jpg  \n",
            "  inflating: training_set/cats/cat.452.jpg  \n",
            "  inflating: training_set/cats/cat.453.jpg  \n",
            "  inflating: training_set/cats/cat.454.jpg  \n",
            "  inflating: training_set/cats/cat.455.jpg  \n",
            "  inflating: training_set/cats/cat.456.jpg  \n",
            "  inflating: training_set/cats/cat.457.jpg  \n",
            "  inflating: training_set/cats/cat.458.jpg  \n",
            "  inflating: training_set/cats/cat.459.jpg  \n",
            "  inflating: training_set/cats/cat.46.jpg  \n",
            "  inflating: training_set/cats/cat.460.jpg  \n",
            "  inflating: training_set/cats/cat.461.jpg  \n",
            "  inflating: training_set/cats/cat.462.jpg  \n",
            "  inflating: training_set/cats/cat.463.jpg  \n",
            "  inflating: training_set/cats/cat.464.jpg  \n",
            "  inflating: training_set/cats/cat.465.jpg  \n",
            "  inflating: training_set/cats/cat.466.jpg  \n",
            "  inflating: training_set/cats/cat.467.jpg  \n",
            "  inflating: training_set/cats/cat.468.jpg  \n",
            "  inflating: training_set/cats/cat.469.jpg  \n",
            "  inflating: training_set/cats/cat.47.jpg  \n",
            "  inflating: training_set/cats/cat.470.jpg  \n",
            "  inflating: training_set/cats/cat.471.jpg  \n",
            "  inflating: training_set/cats/cat.472.jpg  \n",
            "  inflating: training_set/cats/cat.473.jpg  \n",
            "  inflating: training_set/cats/cat.474.jpg  \n",
            "  inflating: training_set/cats/cat.475.jpg  \n",
            "  inflating: training_set/cats/cat.476.jpg  \n",
            "  inflating: training_set/cats/cat.477.jpg  \n",
            "  inflating: training_set/cats/cat.478.jpg  \n",
            "  inflating: training_set/cats/cat.479.jpg  \n",
            "  inflating: training_set/cats/cat.48.jpg  \n",
            "  inflating: training_set/cats/cat.480.jpg  \n",
            "  inflating: training_set/cats/cat.481.jpg  \n",
            "  inflating: training_set/cats/cat.482.jpg  \n",
            "  inflating: training_set/cats/cat.483.jpg  \n",
            "  inflating: training_set/cats/cat.484.jpg  \n",
            "  inflating: training_set/cats/cat.485.jpg  \n",
            "  inflating: training_set/cats/cat.486.jpg  \n",
            "  inflating: training_set/cats/cat.487.jpg  \n",
            "  inflating: training_set/cats/cat.488.jpg  \n",
            "  inflating: training_set/cats/cat.489.jpg  \n",
            "  inflating: training_set/cats/cat.49.jpg  \n",
            "  inflating: training_set/cats/cat.490.jpg  \n",
            "  inflating: training_set/cats/cat.491.jpg  \n",
            "  inflating: training_set/cats/cat.492.jpg  \n",
            "  inflating: training_set/cats/cat.493.jpg  \n",
            "  inflating: training_set/cats/cat.494.jpg  \n",
            "  inflating: training_set/cats/cat.495.jpg  \n",
            "  inflating: training_set/cats/cat.496.jpg  \n",
            "  inflating: training_set/cats/cat.497.jpg  \n",
            "  inflating: training_set/cats/cat.498.jpg  \n",
            "  inflating: training_set/cats/cat.499.jpg  \n",
            "  inflating: training_set/cats/cat.5.jpg  \n",
            "  inflating: training_set/cats/cat.50.jpg  \n",
            "  inflating: training_set/cats/cat.500.jpg  \n",
            "  inflating: training_set/cats/cat.51.jpg  \n",
            "  inflating: training_set/cats/cat.52.jpg  \n",
            "  inflating: training_set/cats/cat.53.jpg  \n",
            "  inflating: training_set/cats/cat.54.jpg  \n",
            "  inflating: training_set/cats/cat.55.jpg  \n",
            "  inflating: training_set/cats/cat.56.jpg  \n",
            "  inflating: training_set/cats/cat.57.jpg  \n",
            "  inflating: training_set/cats/cat.58.jpg  \n",
            "  inflating: training_set/cats/cat.59.jpg  \n",
            "  inflating: training_set/cats/cat.6.jpg  \n",
            "  inflating: training_set/cats/cat.60.jpg  \n",
            "  inflating: training_set/cats/cat.61.jpg  \n",
            "  inflating: training_set/cats/cat.62.jpg  \n",
            "  inflating: training_set/cats/cat.63.jpg  \n",
            "  inflating: training_set/cats/cat.64.jpg  \n",
            "  inflating: training_set/cats/cat.65.jpg  \n",
            "  inflating: training_set/cats/cat.66.jpg  \n",
            "  inflating: training_set/cats/cat.67.jpg  \n",
            "  inflating: training_set/cats/cat.68.jpg  \n",
            "  inflating: training_set/cats/cat.69.jpg  \n",
            "  inflating: training_set/cats/cat.7.jpg  \n",
            "  inflating: training_set/cats/cat.70.jpg  \n",
            "  inflating: training_set/cats/cat.71.jpg  \n",
            "  inflating: training_set/cats/cat.72.jpg  \n",
            "  inflating: training_set/cats/cat.73.jpg  \n",
            "  inflating: training_set/cats/cat.74.jpg  \n",
            "  inflating: training_set/cats/cat.75.jpg  \n",
            "  inflating: training_set/cats/cat.76.jpg  \n",
            "  inflating: training_set/cats/cat.77.jpg  \n",
            "  inflating: training_set/cats/cat.78.jpg  \n",
            "  inflating: training_set/cats/cat.79.jpg  \n",
            "  inflating: training_set/cats/cat.8.jpg  \n",
            "  inflating: training_set/cats/cat.80.jpg  \n",
            "  inflating: training_set/cats/cat.81.jpg  \n",
            "  inflating: training_set/cats/cat.82.jpg  \n",
            "  inflating: training_set/cats/cat.83.jpg  \n",
            "  inflating: training_set/cats/cat.84.jpg  \n",
            "  inflating: training_set/cats/cat.85.jpg  \n",
            "  inflating: training_set/cats/cat.86.jpg  \n",
            "  inflating: training_set/cats/cat.87.jpg  \n",
            "  inflating: training_set/cats/cat.88.jpg  \n",
            "  inflating: training_set/cats/cat.89.jpg  \n",
            "  inflating: training_set/cats/cat.9.jpg  \n",
            "  inflating: training_set/cats/cat.90.jpg  \n",
            "  inflating: training_set/cats/cat.91.jpg  \n",
            "  inflating: training_set/cats/cat.92.jpg  \n",
            "  inflating: training_set/cats/cat.93.jpg  \n",
            "  inflating: training_set/cats/cat.94.jpg  \n",
            "  inflating: training_set/cats/cat.95.jpg  \n",
            "  inflating: training_set/cats/cat.96.jpg  \n",
            "  inflating: training_set/cats/cat.97.jpg  \n",
            "  inflating: training_set/cats/cat.98.jpg  \n",
            "  inflating: training_set/cats/cat.99.jpg  \n",
            "   creating: training_set/dogs/\n",
            "  inflating: training_set/dogs/.DS_Store  \n",
            "  inflating: training_set/dogs/dog.1.jpg  \n",
            "  inflating: training_set/dogs/dog.10.jpg  \n",
            "  inflating: training_set/dogs/dog.100.jpg  \n",
            "  inflating: training_set/dogs/dog.101.jpg  \n",
            "  inflating: training_set/dogs/dog.102.jpg  \n",
            "  inflating: training_set/dogs/dog.103.jpg  \n",
            "  inflating: training_set/dogs/dog.104.jpg  \n",
            "  inflating: training_set/dogs/dog.105.jpg  \n",
            "  inflating: training_set/dogs/dog.106.jpg  \n",
            "  inflating: training_set/dogs/dog.107.jpg  \n",
            "  inflating: training_set/dogs/dog.108.jpg  \n",
            "  inflating: training_set/dogs/dog.109.jpg  \n",
            "  inflating: training_set/dogs/dog.11.jpg  \n",
            "  inflating: training_set/dogs/dog.110.jpg  \n",
            "  inflating: training_set/dogs/dog.111.jpg  \n",
            "  inflating: training_set/dogs/dog.112.jpg  \n",
            "  inflating: training_set/dogs/dog.113.jpg  \n",
            "  inflating: training_set/dogs/dog.114.jpg  \n",
            "  inflating: training_set/dogs/dog.115.jpg  \n",
            "  inflating: training_set/dogs/dog.116.jpg  \n",
            "  inflating: training_set/dogs/dog.117.jpg  \n",
            "  inflating: training_set/dogs/dog.118.jpg  \n",
            "  inflating: training_set/dogs/dog.119.jpg  \n",
            "  inflating: training_set/dogs/dog.12.jpg  \n",
            "  inflating: training_set/dogs/dog.120.jpg  \n",
            "  inflating: training_set/dogs/dog.121.jpg  \n",
            "  inflating: training_set/dogs/dog.122.jpg  \n",
            "  inflating: training_set/dogs/dog.123.jpg  \n",
            "  inflating: training_set/dogs/dog.124.jpg  \n",
            "  inflating: training_set/dogs/dog.125.jpg  \n",
            "  inflating: training_set/dogs/dog.126.jpg  \n",
            "  inflating: training_set/dogs/dog.127.jpg  \n",
            "  inflating: training_set/dogs/dog.128.jpg  \n",
            "  inflating: training_set/dogs/dog.129.jpg  \n",
            "  inflating: training_set/dogs/dog.13.jpg  \n",
            "  inflating: training_set/dogs/dog.130.jpg  \n",
            "  inflating: training_set/dogs/dog.131.jpg  \n",
            "  inflating: training_set/dogs/dog.132.jpg  \n",
            "  inflating: training_set/dogs/dog.133.jpg  \n",
            "  inflating: training_set/dogs/dog.134.jpg  \n",
            "  inflating: training_set/dogs/dog.135.jpg  \n",
            "  inflating: training_set/dogs/dog.136.jpg  \n",
            "  inflating: training_set/dogs/dog.137.jpg  \n",
            "  inflating: training_set/dogs/dog.138.jpg  \n",
            "  inflating: training_set/dogs/dog.139.jpg  \n",
            "  inflating: training_set/dogs/dog.14.jpg  \n",
            "  inflating: training_set/dogs/dog.140.jpg  \n",
            "  inflating: training_set/dogs/dog.141.jpg  \n",
            "  inflating: training_set/dogs/dog.142.jpg  \n",
            "  inflating: training_set/dogs/dog.143.jpg  \n",
            "  inflating: training_set/dogs/dog.144.jpg  \n",
            "  inflating: training_set/dogs/dog.145.jpg  \n",
            "  inflating: training_set/dogs/dog.146.jpg  \n",
            "  inflating: training_set/dogs/dog.147.jpg  \n",
            "  inflating: training_set/dogs/dog.148.jpg  \n",
            "  inflating: training_set/dogs/dog.149.jpg  \n",
            "  inflating: training_set/dogs/dog.15.jpg  \n",
            "  inflating: training_set/dogs/dog.150.jpg  \n",
            "  inflating: training_set/dogs/dog.151.jpg  \n",
            "  inflating: training_set/dogs/dog.152.jpg  \n",
            "  inflating: training_set/dogs/dog.153.jpg  \n",
            "  inflating: training_set/dogs/dog.154.jpg  \n",
            "  inflating: training_set/dogs/dog.155.jpg  \n",
            "  inflating: training_set/dogs/dog.156.jpg  \n",
            "  inflating: training_set/dogs/dog.157.jpg  \n",
            "  inflating: training_set/dogs/dog.158.jpg  \n",
            "  inflating: training_set/dogs/dog.159.jpg  \n",
            "  inflating: training_set/dogs/dog.16.jpg  \n",
            "  inflating: training_set/dogs/dog.160.jpg  \n",
            "  inflating: training_set/dogs/dog.161.jpg  \n",
            "  inflating: training_set/dogs/dog.162.jpg  \n",
            "  inflating: training_set/dogs/dog.163.jpg  \n",
            "  inflating: training_set/dogs/dog.164.jpg  \n",
            "  inflating: training_set/dogs/dog.165.jpg  \n",
            "  inflating: training_set/dogs/dog.166.jpg  \n",
            "  inflating: training_set/dogs/dog.167.jpg  \n",
            "  inflating: training_set/dogs/dog.168.jpg  \n",
            "  inflating: training_set/dogs/dog.169.jpg  \n",
            "  inflating: training_set/dogs/dog.17.jpg  \n",
            "  inflating: training_set/dogs/dog.170.jpg  \n",
            "  inflating: training_set/dogs/dog.171.jpg  \n",
            "  inflating: training_set/dogs/dog.172.jpg  \n",
            "  inflating: training_set/dogs/dog.173.jpg  \n",
            "  inflating: training_set/dogs/dog.174.jpg  \n",
            "  inflating: training_set/dogs/dog.175.jpg  \n",
            "  inflating: training_set/dogs/dog.176.jpg  \n",
            "  inflating: training_set/dogs/dog.177.jpg  \n",
            "  inflating: training_set/dogs/dog.178.jpg  \n",
            "  inflating: training_set/dogs/dog.179.jpg  \n",
            "  inflating: training_set/dogs/dog.18.jpg  \n",
            "  inflating: training_set/dogs/dog.180.jpg  \n",
            "  inflating: training_set/dogs/dog.181.jpg  \n",
            "  inflating: training_set/dogs/dog.182.jpg  \n",
            "  inflating: training_set/dogs/dog.183.jpg  \n",
            "  inflating: training_set/dogs/dog.184.jpg  \n",
            "  inflating: training_set/dogs/dog.185.jpg  \n",
            "  inflating: training_set/dogs/dog.186.jpg  \n",
            "  inflating: training_set/dogs/dog.187.jpg  \n",
            "  inflating: training_set/dogs/dog.188.jpg  \n",
            "  inflating: training_set/dogs/dog.189.jpg  \n",
            "  inflating: training_set/dogs/dog.19.jpg  \n",
            "  inflating: training_set/dogs/dog.190.jpg  \n",
            "  inflating: training_set/dogs/dog.191.jpg  \n",
            "  inflating: training_set/dogs/dog.192.jpg  \n",
            "  inflating: training_set/dogs/dog.193.jpg  \n",
            "  inflating: training_set/dogs/dog.194.jpg  \n",
            "  inflating: training_set/dogs/dog.195.jpg  \n",
            "  inflating: training_set/dogs/dog.196.jpg  \n",
            "  inflating: training_set/dogs/dog.197.jpg  \n",
            "  inflating: training_set/dogs/dog.198.jpg  \n",
            "  inflating: training_set/dogs/dog.199.jpg  \n",
            "  inflating: training_set/dogs/dog.2.jpg  \n",
            "  inflating: training_set/dogs/dog.20.jpg  \n",
            "  inflating: training_set/dogs/dog.200.jpg  \n",
            "  inflating: training_set/dogs/dog.201.jpg  \n",
            "  inflating: training_set/dogs/dog.202.jpg  \n",
            "  inflating: training_set/dogs/dog.203.jpg  \n",
            "  inflating: training_set/dogs/dog.204.jpg  \n",
            "  inflating: training_set/dogs/dog.205.jpg  \n",
            "  inflating: training_set/dogs/dog.206.jpg  \n",
            "  inflating: training_set/dogs/dog.207.jpg  \n",
            "  inflating: training_set/dogs/dog.208.jpg  \n",
            "  inflating: training_set/dogs/dog.209.jpg  \n",
            "  inflating: training_set/dogs/dog.21.jpg  \n",
            "  inflating: training_set/dogs/dog.210.jpg  \n",
            "  inflating: training_set/dogs/dog.211.jpg  \n",
            "  inflating: training_set/dogs/dog.212.jpg  \n",
            "  inflating: training_set/dogs/dog.213.jpg  \n",
            "  inflating: training_set/dogs/dog.214.jpg  \n",
            "  inflating: training_set/dogs/dog.215.jpg  \n",
            "  inflating: training_set/dogs/dog.216.jpg  \n",
            "  inflating: training_set/dogs/dog.217.jpg  \n",
            "  inflating: training_set/dogs/dog.218.jpg  \n",
            "  inflating: training_set/dogs/dog.219.jpg  \n",
            "  inflating: training_set/dogs/dog.22.jpg  \n",
            "  inflating: training_set/dogs/dog.220.jpg  \n",
            "  inflating: training_set/dogs/dog.221.jpg  \n",
            "  inflating: training_set/dogs/dog.222.jpg  \n",
            "  inflating: training_set/dogs/dog.223.jpg  \n",
            "  inflating: training_set/dogs/dog.224.jpg  \n",
            "  inflating: training_set/dogs/dog.225.jpg  \n",
            "  inflating: training_set/dogs/dog.226.jpg  \n",
            "  inflating: training_set/dogs/dog.227.jpg  \n",
            "  inflating: training_set/dogs/dog.228.jpg  \n",
            "  inflating: training_set/dogs/dog.229.jpg  \n",
            "  inflating: training_set/dogs/dog.23.jpg  \n",
            "  inflating: training_set/dogs/dog.230.jpg  \n",
            "  inflating: training_set/dogs/dog.231.jpg  \n",
            "  inflating: training_set/dogs/dog.232.jpg  \n",
            "  inflating: training_set/dogs/dog.233.jpg  \n",
            "  inflating: training_set/dogs/dog.234.jpg  \n",
            "  inflating: training_set/dogs/dog.235.jpg  \n",
            "  inflating: training_set/dogs/dog.236.jpg  \n",
            "  inflating: training_set/dogs/dog.237.jpg  \n",
            "  inflating: training_set/dogs/dog.238.jpg  \n",
            "  inflating: training_set/dogs/dog.239.jpg  \n",
            "  inflating: training_set/dogs/dog.24.jpg  \n",
            "  inflating: training_set/dogs/dog.240.jpg  \n",
            "  inflating: training_set/dogs/dog.241.jpg  \n",
            "  inflating: training_set/dogs/dog.242.jpg  \n",
            "  inflating: training_set/dogs/dog.243.jpg  \n",
            "  inflating: training_set/dogs/dog.244.jpg  \n",
            "  inflating: training_set/dogs/dog.245.jpg  \n",
            "  inflating: training_set/dogs/dog.246.jpg  \n",
            "  inflating: training_set/dogs/dog.247.jpg  \n",
            "  inflating: training_set/dogs/dog.248.jpg  \n",
            "  inflating: training_set/dogs/dog.249.jpg  \n",
            "  inflating: training_set/dogs/dog.25.jpg  \n",
            "  inflating: training_set/dogs/dog.250.jpg  \n",
            "  inflating: training_set/dogs/dog.251.jpg  \n",
            "  inflating: training_set/dogs/dog.252.jpg  \n",
            "  inflating: training_set/dogs/dog.253.jpg  \n",
            "  inflating: training_set/dogs/dog.254.jpg  \n",
            "  inflating: training_set/dogs/dog.255.jpg  \n",
            "  inflating: training_set/dogs/dog.256.jpg  \n",
            "  inflating: training_set/dogs/dog.257.jpg  \n",
            "  inflating: training_set/dogs/dog.258.jpg  \n",
            "  inflating: training_set/dogs/dog.259.jpg  \n",
            "  inflating: training_set/dogs/dog.26.jpg  \n",
            "  inflating: training_set/dogs/dog.260.jpg  \n",
            "  inflating: training_set/dogs/dog.261.jpg  \n",
            "  inflating: training_set/dogs/dog.262.jpg  \n",
            "  inflating: training_set/dogs/dog.263.jpg  \n",
            "  inflating: training_set/dogs/dog.264.jpg  \n",
            "  inflating: training_set/dogs/dog.265.jpg  \n",
            "  inflating: training_set/dogs/dog.266.jpg  \n",
            "  inflating: training_set/dogs/dog.267.jpg  \n",
            "  inflating: training_set/dogs/dog.268.jpg  \n",
            "  inflating: training_set/dogs/dog.269.jpg  \n",
            "  inflating: training_set/dogs/dog.27.jpg  \n",
            "  inflating: training_set/dogs/dog.270.jpg  \n",
            "  inflating: training_set/dogs/dog.271.jpg  \n",
            "  inflating: training_set/dogs/dog.272.jpg  \n",
            "  inflating: training_set/dogs/dog.273.jpg  \n",
            "  inflating: training_set/dogs/dog.274.jpg  \n",
            "  inflating: training_set/dogs/dog.275.jpg  \n",
            "  inflating: training_set/dogs/dog.276.jpg  \n",
            "  inflating: training_set/dogs/dog.277.jpg  \n",
            "  inflating: training_set/dogs/dog.278.jpg  \n",
            "  inflating: training_set/dogs/dog.279.jpg  \n",
            "  inflating: training_set/dogs/dog.28.jpg  \n",
            "  inflating: training_set/dogs/dog.280.jpg  \n",
            "  inflating: training_set/dogs/dog.281.jpg  \n",
            "  inflating: training_set/dogs/dog.282.jpg  \n",
            "  inflating: training_set/dogs/dog.283.jpg  \n",
            "  inflating: training_set/dogs/dog.284.jpg  \n",
            "  inflating: training_set/dogs/dog.285.jpg  \n",
            "  inflating: training_set/dogs/dog.286.jpg  \n",
            "  inflating: training_set/dogs/dog.287.jpg  \n",
            "  inflating: training_set/dogs/dog.288.jpg  \n",
            "  inflating: training_set/dogs/dog.289.jpg  \n",
            "  inflating: training_set/dogs/dog.29.jpg  \n",
            "  inflating: training_set/dogs/dog.290.jpg  \n",
            "  inflating: training_set/dogs/dog.291.jpg  \n",
            "  inflating: training_set/dogs/dog.292.jpg  \n",
            "  inflating: training_set/dogs/dog.293.jpg  \n",
            "  inflating: training_set/dogs/dog.294.jpg  \n",
            "  inflating: training_set/dogs/dog.295.jpg  \n",
            "  inflating: training_set/dogs/dog.296.jpg  \n",
            "  inflating: training_set/dogs/dog.297.jpg  \n",
            "  inflating: training_set/dogs/dog.298.jpg  \n",
            "  inflating: training_set/dogs/dog.299.jpg  \n",
            "  inflating: training_set/dogs/dog.3.jpg  \n",
            "  inflating: training_set/dogs/dog.30.jpg  \n",
            "  inflating: training_set/dogs/dog.300.jpg  \n",
            "  inflating: training_set/dogs/dog.301.jpg  \n",
            "  inflating: training_set/dogs/dog.302.jpg  \n",
            "  inflating: training_set/dogs/dog.303.jpg  \n",
            "  inflating: training_set/dogs/dog.304.jpg  \n",
            "  inflating: training_set/dogs/dog.305.jpg  \n",
            "  inflating: training_set/dogs/dog.306.jpg  \n",
            "  inflating: training_set/dogs/dog.307.jpg  \n",
            "  inflating: training_set/dogs/dog.308.jpg  \n",
            "  inflating: training_set/dogs/dog.309.jpg  \n",
            "  inflating: training_set/dogs/dog.31.jpg  \n",
            "  inflating: training_set/dogs/dog.310.jpg  \n",
            "  inflating: training_set/dogs/dog.311.jpg  \n",
            "  inflating: training_set/dogs/dog.312.jpg  \n",
            "  inflating: training_set/dogs/dog.313.jpg  \n",
            "  inflating: training_set/dogs/dog.314.jpg  \n",
            "  inflating: training_set/dogs/dog.315.jpg  \n",
            "  inflating: training_set/dogs/dog.316.jpg  \n",
            "  inflating: training_set/dogs/dog.317.jpg  \n",
            "  inflating: training_set/dogs/dog.318.jpg  \n",
            "  inflating: training_set/dogs/dog.319.jpg  \n",
            "  inflating: training_set/dogs/dog.32.jpg  \n",
            "  inflating: training_set/dogs/dog.320.jpg  \n",
            "  inflating: training_set/dogs/dog.321.jpg  \n",
            "  inflating: training_set/dogs/dog.322.jpg  \n",
            "  inflating: training_set/dogs/dog.323.jpg  \n",
            "  inflating: training_set/dogs/dog.324.jpg  \n",
            "  inflating: training_set/dogs/dog.325.jpg  \n",
            "  inflating: training_set/dogs/dog.326.jpg  \n",
            "  inflating: training_set/dogs/dog.327.jpg  \n",
            "  inflating: training_set/dogs/dog.328.jpg  \n",
            "  inflating: training_set/dogs/dog.329.jpg  \n",
            "  inflating: training_set/dogs/dog.33.jpg  \n",
            "  inflating: training_set/dogs/dog.330.jpg  \n",
            "  inflating: training_set/dogs/dog.331.jpg  \n",
            "  inflating: training_set/dogs/dog.332.jpg  \n",
            "  inflating: training_set/dogs/dog.333.jpg  \n",
            "  inflating: training_set/dogs/dog.334.jpg  \n",
            "  inflating: training_set/dogs/dog.335.jpg  \n",
            "  inflating: training_set/dogs/dog.336.jpg  \n",
            "  inflating: training_set/dogs/dog.337.jpg  \n",
            "  inflating: training_set/dogs/dog.338.jpg  \n",
            "  inflating: training_set/dogs/dog.339.jpg  \n",
            "  inflating: training_set/dogs/dog.34.jpg  \n",
            "  inflating: training_set/dogs/dog.340.jpg  \n",
            "  inflating: training_set/dogs/dog.341.jpg  \n",
            "  inflating: training_set/dogs/dog.342.jpg  \n",
            "  inflating: training_set/dogs/dog.343.jpg  \n",
            "  inflating: training_set/dogs/dog.344.jpg  \n",
            "  inflating: training_set/dogs/dog.345.jpg  \n",
            "  inflating: training_set/dogs/dog.346.jpg  \n",
            "  inflating: training_set/dogs/dog.347.jpg  \n",
            "  inflating: training_set/dogs/dog.348.jpg  \n",
            "  inflating: training_set/dogs/dog.349.jpg  \n",
            "  inflating: training_set/dogs/dog.35.jpg  \n",
            "  inflating: training_set/dogs/dog.350.jpg  \n",
            "  inflating: training_set/dogs/dog.351.jpg  \n",
            "  inflating: training_set/dogs/dog.352.jpg  \n",
            "  inflating: training_set/dogs/dog.353.jpg  \n",
            "  inflating: training_set/dogs/dog.354.jpg  \n",
            "  inflating: training_set/dogs/dog.355.jpg  \n",
            "  inflating: training_set/dogs/dog.356.jpg  \n",
            "  inflating: training_set/dogs/dog.357.jpg  \n",
            "  inflating: training_set/dogs/dog.358.jpg  \n",
            "  inflating: training_set/dogs/dog.359.jpg  \n",
            "  inflating: training_set/dogs/dog.36.jpg  \n",
            "  inflating: training_set/dogs/dog.360.jpg  \n",
            "  inflating: training_set/dogs/dog.361.jpg  \n",
            "  inflating: training_set/dogs/dog.362.jpg  \n",
            "  inflating: training_set/dogs/dog.363.jpg  \n",
            "  inflating: training_set/dogs/dog.364.jpg  \n",
            "  inflating: training_set/dogs/dog.365.jpg  \n",
            "  inflating: training_set/dogs/dog.366.jpg  \n",
            "  inflating: training_set/dogs/dog.367.jpg  \n",
            "  inflating: training_set/dogs/dog.368.jpg  \n",
            "  inflating: training_set/dogs/dog.369.jpg  \n",
            "  inflating: training_set/dogs/dog.37.jpg  \n",
            "  inflating: training_set/dogs/dog.370.jpg  \n",
            "  inflating: training_set/dogs/dog.371.jpg  \n",
            "  inflating: training_set/dogs/dog.372.jpg  \n",
            "  inflating: training_set/dogs/dog.373.jpg  \n",
            "  inflating: training_set/dogs/dog.374.jpg  \n",
            "  inflating: training_set/dogs/dog.375.jpg  \n",
            "  inflating: training_set/dogs/dog.376.jpg  \n",
            "  inflating: training_set/dogs/dog.377.jpg  \n",
            "  inflating: training_set/dogs/dog.378.jpg  \n",
            "  inflating: training_set/dogs/dog.379.jpg  \n",
            "  inflating: training_set/dogs/dog.38.jpg  \n",
            "  inflating: training_set/dogs/dog.380.jpg  \n",
            "  inflating: training_set/dogs/dog.381.jpg  \n",
            "  inflating: training_set/dogs/dog.382.jpg  \n",
            "  inflating: training_set/dogs/dog.383.jpg  \n",
            "  inflating: training_set/dogs/dog.384.jpg  \n",
            "  inflating: training_set/dogs/dog.385.jpg  \n",
            "  inflating: training_set/dogs/dog.386.jpg  \n",
            "  inflating: training_set/dogs/dog.387.jpg  \n",
            "  inflating: training_set/dogs/dog.388.jpg  \n",
            "  inflating: training_set/dogs/dog.389.jpg  \n",
            "  inflating: training_set/dogs/dog.39.jpg  \n",
            "  inflating: training_set/dogs/dog.390.jpg  \n",
            "  inflating: training_set/dogs/dog.391.jpg  \n",
            "  inflating: training_set/dogs/dog.392.jpg  \n",
            "  inflating: training_set/dogs/dog.393.jpg  \n",
            "  inflating: training_set/dogs/dog.394.jpg  \n",
            "  inflating: training_set/dogs/dog.395.jpg  \n",
            "  inflating: training_set/dogs/dog.396.jpg  \n",
            "  inflating: training_set/dogs/dog.397.jpg  \n",
            "  inflating: training_set/dogs/dog.398.jpg  \n",
            "  inflating: training_set/dogs/dog.399.jpg  \n",
            "  inflating: training_set/dogs/dog.4.jpg  \n",
            "  inflating: training_set/dogs/dog.40.jpg  \n",
            "  inflating: training_set/dogs/dog.400.jpg  \n",
            "  inflating: training_set/dogs/dog.401.jpg  \n",
            "  inflating: training_set/dogs/dog.402.jpg  \n",
            "  inflating: training_set/dogs/dog.403.jpg  \n",
            "  inflating: training_set/dogs/dog.404.jpg  \n",
            "  inflating: training_set/dogs/dog.405.jpg  \n",
            "  inflating: training_set/dogs/dog.406.jpg  \n",
            "  inflating: training_set/dogs/dog.407.jpg  \n",
            "  inflating: training_set/dogs/dog.408.jpg  \n",
            "  inflating: training_set/dogs/dog.409.jpg  \n",
            "  inflating: training_set/dogs/dog.41.jpg  \n",
            "  inflating: training_set/dogs/dog.410.jpg  \n",
            "  inflating: training_set/dogs/dog.411.jpg  \n",
            "  inflating: training_set/dogs/dog.412.jpg  \n",
            "  inflating: training_set/dogs/dog.413.jpg  \n",
            "  inflating: training_set/dogs/dog.414.jpg  \n",
            "  inflating: training_set/dogs/dog.415.jpg  \n",
            "  inflating: training_set/dogs/dog.416.jpg  \n",
            "  inflating: training_set/dogs/dog.417.jpg  \n",
            "  inflating: training_set/dogs/dog.418.jpg  \n",
            "  inflating: training_set/dogs/dog.419.jpg  \n",
            "  inflating: training_set/dogs/dog.42.jpg  \n",
            "  inflating: training_set/dogs/dog.420.jpg  \n",
            "  inflating: training_set/dogs/dog.421.jpg  \n",
            "  inflating: training_set/dogs/dog.422.jpg  \n",
            "  inflating: training_set/dogs/dog.423.jpg  \n",
            "  inflating: training_set/dogs/dog.424.jpg  \n",
            "  inflating: training_set/dogs/dog.425.jpg  \n",
            "  inflating: training_set/dogs/dog.426.jpg  \n",
            "  inflating: training_set/dogs/dog.427.jpg  \n",
            "  inflating: training_set/dogs/dog.428.jpg  \n",
            "  inflating: training_set/dogs/dog.429.jpg  \n",
            "  inflating: training_set/dogs/dog.43.jpg  \n",
            "  inflating: training_set/dogs/dog.430.jpg  \n",
            "  inflating: training_set/dogs/dog.431.jpg  \n",
            "  inflating: training_set/dogs/dog.432.jpg  \n",
            "  inflating: training_set/dogs/dog.433.jpg  \n",
            "  inflating: training_set/dogs/dog.434.jpg  \n",
            "  inflating: training_set/dogs/dog.435.jpg  \n",
            "  inflating: training_set/dogs/dog.436.jpg  \n",
            "  inflating: training_set/dogs/dog.437.jpg  \n",
            "  inflating: training_set/dogs/dog.438.jpg  \n",
            "  inflating: training_set/dogs/dog.439.jpg  \n",
            "  inflating: training_set/dogs/dog.44.jpg  \n",
            "  inflating: training_set/dogs/dog.440.jpg  \n",
            "  inflating: training_set/dogs/dog.441.jpg  \n",
            "  inflating: training_set/dogs/dog.442.jpg  \n",
            "  inflating: training_set/dogs/dog.443.jpg  \n",
            "  inflating: training_set/dogs/dog.444.jpg  \n",
            "  inflating: training_set/dogs/dog.445.jpg  \n",
            "  inflating: training_set/dogs/dog.446.jpg  \n",
            "  inflating: training_set/dogs/dog.447.jpg  \n",
            "  inflating: training_set/dogs/dog.448.jpg  \n",
            "  inflating: training_set/dogs/dog.449.jpg  \n",
            "  inflating: training_set/dogs/dog.45.jpg  \n",
            "  inflating: training_set/dogs/dog.450.jpg  \n",
            "  inflating: training_set/dogs/dog.451.jpg  \n",
            "  inflating: training_set/dogs/dog.452.jpg  \n",
            "  inflating: training_set/dogs/dog.453.jpg  \n",
            "  inflating: training_set/dogs/dog.454.jpg  \n",
            "  inflating: training_set/dogs/dog.455.jpg  \n",
            "  inflating: training_set/dogs/dog.456.jpg  \n",
            "  inflating: training_set/dogs/dog.457.jpg  \n",
            "  inflating: training_set/dogs/dog.458.jpg  \n",
            "  inflating: training_set/dogs/dog.459.jpg  \n",
            "  inflating: training_set/dogs/dog.46.jpg  \n",
            "  inflating: training_set/dogs/dog.460.jpg  \n",
            "  inflating: training_set/dogs/dog.461.jpg  \n",
            "  inflating: training_set/dogs/dog.462.jpg  \n",
            "  inflating: training_set/dogs/dog.463.jpg  \n",
            "  inflating: training_set/dogs/dog.464.jpg  \n",
            "  inflating: training_set/dogs/dog.465.jpg  \n",
            "  inflating: training_set/dogs/dog.466.jpg  \n",
            "  inflating: training_set/dogs/dog.467.jpg  \n",
            "  inflating: training_set/dogs/dog.468.jpg  \n",
            "  inflating: training_set/dogs/dog.469.jpg  \n",
            "  inflating: training_set/dogs/dog.47.jpg  \n",
            "  inflating: training_set/dogs/dog.470.jpg  \n",
            "  inflating: training_set/dogs/dog.471.jpg  \n",
            "  inflating: training_set/dogs/dog.472.jpg  \n",
            "  inflating: training_set/dogs/dog.473.jpg  \n",
            "  inflating: training_set/dogs/dog.474.jpg  \n",
            "  inflating: training_set/dogs/dog.475.jpg  \n",
            "  inflating: training_set/dogs/dog.476.jpg  \n",
            "  inflating: training_set/dogs/dog.477.jpg  \n",
            "  inflating: training_set/dogs/dog.478.jpg  \n",
            "  inflating: training_set/dogs/dog.479.jpg  \n",
            "  inflating: training_set/dogs/dog.48.jpg  \n",
            "  inflating: training_set/dogs/dog.480.jpg  \n",
            "  inflating: training_set/dogs/dog.481.jpg  \n",
            "  inflating: training_set/dogs/dog.482.jpg  \n",
            "  inflating: training_set/dogs/dog.483.jpg  \n",
            "  inflating: training_set/dogs/dog.484.jpg  \n",
            "  inflating: training_set/dogs/dog.485.jpg  \n",
            "  inflating: training_set/dogs/dog.486.jpg  \n",
            "  inflating: training_set/dogs/dog.487.jpg  \n",
            "  inflating: training_set/dogs/dog.488.jpg  \n",
            "  inflating: training_set/dogs/dog.489.jpg  \n",
            "  inflating: training_set/dogs/dog.49.jpg  \n",
            "  inflating: training_set/dogs/dog.490.jpg  \n",
            "  inflating: training_set/dogs/dog.491.jpg  \n",
            "  inflating: training_set/dogs/dog.492.jpg  \n",
            "  inflating: training_set/dogs/dog.493.jpg  \n",
            "  inflating: training_set/dogs/dog.494.jpg  \n",
            "  inflating: training_set/dogs/dog.495.jpg  \n",
            "  inflating: training_set/dogs/dog.496.jpg  \n",
            "  inflating: training_set/dogs/dog.497.jpg  \n",
            "  inflating: training_set/dogs/dog.498.jpg  \n",
            "  inflating: training_set/dogs/dog.499.jpg  \n",
            "  inflating: training_set/dogs/dog.5.jpg  \n",
            "  inflating: training_set/dogs/dog.50.jpg  \n",
            "  inflating: training_set/dogs/dog.500.jpg  \n",
            "  inflating: training_set/dogs/dog.51.jpg  \n",
            "  inflating: training_set/dogs/dog.52.jpg  \n",
            "  inflating: training_set/dogs/dog.53.jpg  \n",
            "  inflating: training_set/dogs/dog.54.jpg  \n",
            "  inflating: training_set/dogs/dog.55.jpg  \n",
            "  inflating: training_set/dogs/dog.56.jpg  \n",
            "  inflating: training_set/dogs/dog.57.jpg  \n",
            "  inflating: training_set/dogs/dog.58.jpg  \n",
            "  inflating: training_set/dogs/dog.59.jpg  \n",
            "  inflating: training_set/dogs/dog.6.jpg  \n",
            "  inflating: training_set/dogs/dog.60.jpg  \n",
            "  inflating: training_set/dogs/dog.61.jpg  \n",
            "  inflating: training_set/dogs/dog.62.jpg  \n",
            "  inflating: training_set/dogs/dog.63.jpg  \n",
            "  inflating: training_set/dogs/dog.64.jpg  \n",
            "  inflating: training_set/dogs/dog.65.jpg  \n",
            "  inflating: training_set/dogs/dog.66.jpg  \n",
            "  inflating: training_set/dogs/dog.67.jpg  \n",
            "  inflating: training_set/dogs/dog.68.jpg  \n",
            "  inflating: training_set/dogs/dog.69.jpg  \n",
            "  inflating: training_set/dogs/dog.7.jpg  \n",
            "  inflating: training_set/dogs/dog.70.jpg  \n",
            "  inflating: training_set/dogs/dog.71.jpg  \n",
            "  inflating: training_set/dogs/dog.72.jpg  \n",
            "  inflating: training_set/dogs/dog.73.jpg  \n",
            "  inflating: training_set/dogs/dog.74.jpg  \n",
            "  inflating: training_set/dogs/dog.75.jpg  \n",
            "  inflating: training_set/dogs/dog.76.jpg  \n",
            "  inflating: training_set/dogs/dog.77.jpg  \n",
            "  inflating: training_set/dogs/dog.78.jpg  \n",
            "  inflating: training_set/dogs/dog.79.jpg  \n",
            "  inflating: training_set/dogs/dog.8.jpg  \n",
            "  inflating: training_set/dogs/dog.80.jpg  \n",
            "  inflating: training_set/dogs/dog.81.jpg  \n",
            "  inflating: training_set/dogs/dog.82.jpg  \n",
            "  inflating: training_set/dogs/dog.83.jpg  \n",
            "  inflating: training_set/dogs/dog.84.jpg  \n",
            "  inflating: training_set/dogs/dog.85.jpg  \n",
            "  inflating: training_set/dogs/dog.86.jpg  \n",
            "  inflating: training_set/dogs/dog.87.jpg  \n",
            "  inflating: training_set/dogs/dog.88.jpg  \n",
            "  inflating: training_set/dogs/dog.89.jpg  \n",
            "  inflating: training_set/dogs/dog.9.jpg  \n",
            "  inflating: training_set/dogs/dog.90.jpg  \n",
            "  inflating: training_set/dogs/dog.91.jpg  \n",
            "  inflating: training_set/dogs/dog.92.jpg  \n",
            "  inflating: training_set/dogs/dog.93.jpg  \n",
            "  inflating: training_set/dogs/dog.94.jpg  \n",
            "  inflating: training_set/dogs/dog.95.jpg  \n",
            "  inflating: training_set/dogs/dog.96.jpg  \n",
            "  inflating: training_set/dogs/dog.97.jpg  \n",
            "  inflating: training_set/dogs/dog.98.jpg  \n",
            "  inflating: training_set/dogs/dog.99.jpg  \n"
          ],
          "name": "stdout"
        }
      ]
    },
    {
      "cell_type": "code",
      "metadata": {
        "id": "OA-euBUEWkb9",
        "colab_type": "code",
        "outputId": "be86812d-6d2a-43de-92ae-aef4c1818a59",
        "colab": {
          "base_uri": "https://localhost:8080/",
          "height": 337
        }
      },
      "source": [
        "img = image.load_img(\"/content/training_set/cats/cat.1.jpg\",target_size=( 224,224))\n",
        "print(type(img))\n",
        "\n",
        "x = image.img_to_array(img)\n",
        "print(type(x))\n",
        "print(x.shape)\n",
        "plt.imshow(x/255)\n",
        "print"
      ],
      "execution_count": 0,
      "outputs": [
        {
          "output_type": "stream",
          "text": [
            "<class 'PIL.Image.Image'>\n",
            "<class 'numpy.ndarray'>\n",
            "(224, 224, 3)\n"
          ],
          "name": "stdout"
        },
        {
          "output_type": "execute_result",
          "data": {
            "text/plain": [
              "<function print>"
            ]
          },
          "metadata": {
            "tags": []
          },
          "execution_count": 14
        },
        {
          "output_type": "display_data",
          "data": {
            "image/png": "[encoded data removed]",
            "text/plain": [
              "<Figure size 432x288 with 1 Axes>"
            ]
          },
          "metadata": {
            "tags": []
          }
        }
      ]
    },
    {
      "cell_type": "code",
      "metadata": {
        "id": "ccGuV-PmdVVl",
        "colab_type": "code",
        "colab": {}
      },
      "source": [
        ""
      ],
      "execution_count": 0,
      "outputs": []
    },
    {
      "cell_type": "code",
      "metadata": {
        "id": "sqAzG3DMP_6s",
        "colab_type": "code",
        "outputId": "aa689f68-aa37-4bd5-9f08-d663996fe695",
        "colab": {
          "resources": {
            "http://localhost:8080/nbextensions/google.colab/files.js": {
              "data": "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",
              "ok": true,
              "headers": [
                [
                  "content-type",
                  "application/javascript"
                ]
              ],
              "status": 200,
              "status_text": ""
            }
          },
          "base_uri": "https://localhost:8080/",
          "height": 244
        }
      },
      "source": [
        "from google.colab import files\n",
        "uploaded = files.upload()"
      ],
      "execution_count": 0,
      "outputs": [
        {
          "output_type": "display_data",
          "data": {
            "text/html": [
              "\n",
              "     <input type=\"file\" id=\"files-dd5f8a0c-adce-45ba-b02e-ca0a2da10b72\" name=\"files[]\" multiple disabled />\n",
              "     <output id=\"result-dd5f8a0c-adce-45ba-b02e-ca0a2da10b72\">\n",
              "      Upload widget is only available when the cell has been executed in the\n",
              "      current browser session. Please rerun this cell to enable.\n",
              "      </output>\n",
              "      <script src=\"/nbextensions/google.colab/files.js\"></script> "
            ],
            "text/plain": [
              "<IPython.core.display.HTML object>"
            ]
          },
          "metadata": {
            "tags": []
          }
        },
        {
          "output_type": "stream",
          "text": [
            "Saving 2 way splitter.JPG to 2 way splitter.JPG\n",
            "Saving 2.JPG to 2.JPG\n",
            "Saving 4.JPG to 4.JPG\n",
            "Saving Capture.JPG to Capture.JPG\n",
            "Saving Capture2.JPG to Capture2.JPG\n",
            "Saving Capture4.JPG to Capture4.JPG\n"
          ],
          "name": "stdout"
        }
      ]
    },
    {
      "cell_type": "code",
      "metadata": {
        "id": "mgGLRQImSJKJ",
        "colab_type": "code",
        "outputId": "ef0656d7-703f-4970-d25c-f3e560f8fc1f",
        "colab": {
          "base_uri": "https://localhost:8080/",
          "height": 337
        }
      },
      "source": [
        "img = image.load_img(\"Capture4.JPG\",target_size=( 224,224))\n",
        "print(type(img))\n",
        "\n",
        "x = image.img_to_array(img)\n",
        "print(type(x))\n",
        "print(x.shape)\n",
        "plt.imshow(x/255)\n",
        "print"
      ],
      "execution_count": 0,
      "outputs": [
        {
          "output_type": "stream",
          "text": [
            "<class 'PIL.Image.Image'>\n",
            "<class 'numpy.ndarray'>\n",
            "(224, 224, 3)\n"
          ],
          "name": "stdout"
        },
        {
          "output_type": "execute_result",
          "data": {
            "text/plain": [
              "<function print>"
            ]
          },
          "metadata": {
            "tags": []
          },
          "execution_count": 26
        },
        {
          "output_type": "display_data",
          "data": {
            "image/png": "[encoded data removed]",
            "text/plain": [
              "<Figure size 432x288 with 1 Axes>"
            ]
          },
          "metadata": {
            "tags": []
          }
        }
      ]
    },
    {
      "cell_type": "code",
      "metadata": {
        "id": "TcqnTDbsbUxu",
        "colab_type": "code",
        "outputId": "c08b7f59-fb43-478a-b9c8-f0c25adcf777",
        "colab": {
          "resources": {
            "http://localhost:8080/nbextensions/google.colab/files.js": {
              "data": "Ly8gQ29weXJpZ2h0IDIwMTcgR29vZ2xlIExMQwovLwovLyBMaWNlbnNlZCB1bmRlciB0aGUgQXBhY2hlIExpY2Vuc2UsIFZlcnNpb24gMi4wICh0aGUgIkxpY2Vuc2UiKTsKLy8geW91IG1heSBub3QgdXNlIHRoaXMgZmlsZSBleGNlcHQgaW4gY29tcGxpYW5jZSB3aXRoIHRoZSBMaWNlbnNlLgovLyBZb3UgbWF5IG9idGFpbiBhIGNvcHkgb2YgdGhlIExpY2Vuc2UgYXQKLy8KLy8gICAgICBodHRwOi8vd3d3LmFwYWNoZS5vcmcvbGljZW5zZXMvTElDRU5TRS0yLjAKLy8KLy8gVW5sZXNzIHJlcXVpcmVkIGJ5IGFwcGxpY2FibGUgbGF3IG9yIGFncmVlZCB0byBpbiB3cml0aW5nLCBzb2Z0d2FyZQovLyBkaXN0cmlidXRlZCB1bmRlciB0aGUgTGljZW5zZSBpcyBkaXN0cmlidXRlZCBvbiBhbiAiQVMgSVMiIEJBU0lTLAovLyBXSVRIT1VUIFdBUlJBTlRJRVMgT1IgQ09ORElUSU9OUyBPRiBBTlkgS0lORCwgZWl0aGVyIGV4cHJlc3Mgb3IgaW1wbGllZC4KLy8gU2VlIHRoZSBMaWNlbnNlIGZvciB0aGUgc3BlY2lmaWMgbGFuZ3VhZ2UgZ292ZXJuaW5nIHBlcm1pc3Npb25zIGFuZAovLyBsaW1pdGF0aW9ucyB1bmRlciB0aGUgTGljZW5zZS4KCi8qKgogKiBAZmlsZW92ZXJ2aWV3IEhlbHBlcnMgZm9yIGdvb2dsZS5jb2xhYiBQeXRob24gbW9kdWxlLgogKi8KKGZ1bmN0aW9uKHNjb3BlKSB7CmZ1bmN0aW9uIHNwYW4odGV4dCwgc3R5bGVBdHRyaWJ1dGVzID0ge30pIHsKICBjb25zdCBlbGVtZW50ID0gZG9jdW1lbnQuY3JlYXRlRWxlbWVudCgnc3BhbicpOwogIGVsZW1lbnQudGV4dENvbnRlbnQgPSB0ZXh0OwogIGZvciAoY29uc3Qga2V5IG9mIE9iamVjdC5rZXlzKHN0eWxlQXR0cmlidXRlcykpIHsKICAgIGVsZW1lbnQuc3R5bGVba2V5XSA9IHN0eWxlQXR0cmlidXRlc1trZXldOwogIH0KICByZXR1cm4gZWxlbWVudDsKfQoKLy8gTWF4IG51bWJlciBvZiBieXRlcyB3aGljaCB3aWxsIGJlIHVwbG9hZGVkIGF0IGEgdGltZS4KY29uc3QgTUFYX1BBWUxPQURfU0laRSA9IDEwMCAqIDEwMjQ7Ci8vIE1heCBhbW91bnQgb2YgdGltZSB0byBibG9jayB3YWl0aW5nIGZvciB0aGUgdXNlci4KY29uc3QgRklMRV9DSEFOR0VfVElNRU9VVF9NUyA9IDMwICogMTAwMDsKCmZ1bmN0aW9uIF91cGxvYWRGaWxlcyhpbnB1dElkLCBvdXRwdXRJZCkgewogIGNvbnN0IHN0ZXBzID0gdXBsb2FkRmlsZXNTdGVwKGlucHV0SWQsIG91dHB1dElkKTsKICBjb25zdCBvdXRwdXRFbGVtZW50ID0gZG9jdW1lbnQuZ2V0RWxlbWVudEJ5SWQob3V0cHV0SWQpOwogIC8vIENhY2hlIHN0ZXBzIG9uIHRoZSBvdXRwdXRFbGVtZW50IHRvIG1ha2UgaXQgYXZhaWxhYmxlIGZvciB0aGUgbmV4dCBjYWxsCiAgLy8gdG8gdXBsb2FkRmlsZXNDb250aW51ZSBmcm9tIFB5dGhvbi4KICBvdXRwdXRFbGVtZW50LnN0ZXBzID0gc3RlcHM7CgogIHJldHVybiBfdXBsb2FkRmlsZXNDb250aW51ZShvdXRwdXRJZCk7Cn0KCi8vIFRoaXMgaXMgcm91Z2hseSBhbiBhc3luYyBnZW5lcmF0b3IgKG5vdCBzdXBwb3J0ZWQgaW4gdGhlIGJyb3dzZXIgeWV0KSwKLy8gd2hlcmUgdGhlcmUgYXJlIG11bHRpcGxlIGFzeW5jaHJvbm91cyBzdGVwcyBhbmQgdGhlIFB5dGhvbiBzaWRlIGlzIGdvaW5nCi8vIHRvIHBvbGwgZm9yIGNvbXBsZXRpb24gb2YgZWFjaCBzdGVwLgovLyBUaGlzIHVzZXMgYSBQcm9taXNlIHRvIGJsb2NrIHRoZSBweXRob24gc2lkZSBvbiBjb21wbGV0aW9uIG9mIGVhY2ggc3RlcCwKLy8gdGhlbiBwYXNzZXMgdGhlIHJlc3VsdCBvZiB0aGUgcHJldmlvdXMgc3RlcCBhcyB0aGUgaW5wdXQgdG8gdGhlIG5leHQgc3RlcC4KZnVuY3Rpb24gX3VwbG9hZEZpbGVzQ29udGludWUob3V0cHV0SWQpIHsKICBjb25zdCBvdXRwdXRFbGVtZW50ID0gZG9jdW1lbnQuZ2V0RWxlbWVudEJ5SWQob3V0cHV0SWQpOwogIGNvbnN0IHN0ZXBzID0gb3V0cHV0RWxlbWVudC5zdGVwczsKCiAgY29uc3QgbmV4dCA9IHN0ZXBzLm5leHQob3V0cHV0RWxlbWVudC5sYXN0UHJvbWlzZVZhbHVlKTsKICByZXR1cm4gUHJvbWlzZS5yZXNvbHZlKG5leHQudmFsdWUucHJvbWlzZSkudGhlbigodmFsdWUpID0+IHsKICAgIC8vIENhY2hlIHRoZSBsYXN0IHByb21pc2UgdmFsdWUgdG8gbWFrZSBpdCBhdmFpbGFibGUgdG8gdGhlIG5leHQKICAgIC8vIHN0ZXAgb2YgdGhlIGdlbmVyYXRvci4KICAgIG91dHB1dEVsZW1lbnQubGFzdFByb21pc2VWYWx1ZSA9IHZhbHVlOwogICAgcmV0dXJuIG5leHQudmFsdWUucmVzcG9uc2U7CiAgfSk7Cn0KCi8qKgogKiBHZW5lcmF0b3IgZnVuY3Rpb24gd2hpY2ggaXMgY2FsbGVkIGJldHdlZW4gZWFjaCBhc3luYyBzdGVwIG9mIHRoZSB1cGxvYWQKICogcHJvY2Vzcy4KICogQHBhcmFtIHtzdHJpbmd9IGlucHV0SWQgRWxlbWVudCBJRCBvZiB0aGUgaW5wdXQgZmlsZSBwaWNrZXIgZWxlbWVudC4KICogQHBhcmFtIHtzdHJpbmd9IG91dHB1dElkIEVsZW1lbnQgSUQgb2YgdGhlIG91dHB1dCBkaXNwbGF5LgogKiBAcmV0dXJuIHshSXRlcmFibGU8IU9iamVjdD59IEl0ZXJhYmxlIG9mIG5leHQgc3RlcHMuCiAqLwpmdW5jdGlvbiogdXBsb2FkRmlsZXNTdGVwKGlucHV0SWQsIG91dHB1dElkKSB7CiAgY29uc3QgaW5wdXRFbGVtZW50ID0gZG9jdW1lbnQuZ2V0RWxlbWVudEJ5SWQoaW5wdXRJZCk7CiAgaW5wdXRFbGVtZW50LmRpc2FibGVkID0gZmFsc2U7CgogIGNvbnN0IG91dHB1dEVsZW1lbnQgPSBkb2N1bWVudC5nZXRFbGVtZW50QnlJZChvdXRwdXRJZCk7CiAgb3V0cHV0RWxlbWVudC5pbm5lckhUTUwgPSAnJzsKCiAgY29uc3QgcGlja2VkUHJvbWlzZSA9IG5ldyBQcm9taXNlKChyZXNvbHZlKSA9PiB7CiAgICBpbnB1dEVsZW1lbnQuYWRkRXZlbnRMaXN0ZW5lcignY2hhbmdlJywgKGUpID0+IHsKICAgICAgcmVzb2x2ZShlLnRhcmdldC5maWxlcyk7CiAgICB9KTsKICB9KTsKCiAgY29uc3QgY2FuY2VsID0gZG9jdW1lbnQuY3JlYXRlRWxlbWVudCgnYnV0dG9uJyk7CiAgaW5wdXRFbGVtZW50LnBhcmVudEVsZW1lbnQuYXBwZW5kQ2hpbGQoY2FuY2VsKTsKICBjYW5jZWwudGV4dENvbnRlbnQgPSAnQ2FuY2VsIHVwbG9hZCc7CiAgY29uc3QgY2FuY2VsUHJvbWlzZSA9IG5ldyBQcm9taXNlKChyZXNvbHZlKSA9PiB7CiAgICBjYW5jZWwub25jbGljayA9ICgpID0+IHsKICAgICAgcmVzb2x2ZShudWxsKTsKICAgIH07CiAgfSk7CgogIC8vIENhbmNlbCB1cGxvYWQgaWYgdXNlciBoYXNuJ3QgcGlja2VkIGFueXRoaW5nIGluIHRpbWVvdXQuCiAgY29uc3QgdGltZW91dFByb21pc2UgPSBuZXcgUHJvbWlzZSgocmVzb2x2ZSkgPT4gewogICAgc2V0VGltZW91dCgoKSA9PiB7CiAgICAgIHJlc29sdmUobnVsbCk7CiAgICB9LCBGSUxFX0NIQU5HRV9USU1FT1VUX01TKTsKICB9KTsKCiAgLy8gV2FpdCBmb3IgdGhlIHVzZXIgdG8gcGljayB0aGUgZmlsZXMuCiAgY29uc3QgZmlsZXMgPSB5aWVsZCB7CiAgICBwcm9taXNlOiBQcm9taXNlLnJhY2UoW3BpY2tlZFByb21pc2UsIHRpbWVvdXRQcm9taXNlLCBjYW5jZWxQcm9taXNlXSksCiAgICByZXNwb25zZTogewogICAgICBhY3Rpb246ICdzdGFydGluZycsCiAgICB9CiAgfTsKCiAgaWYgKCFmaWxlcykgewogICAgcmV0dXJuIHsKICAgICAgcmVzcG9uc2U6IHsKICAgICAgICBhY3Rpb246ICdjb21wbGV0ZScsCiAgICAgIH0KICAgIH07CiAgfQoKICBjYW5jZWwucmVtb3ZlKCk7CgogIC8vIERpc2FibGUgdGhlIGlucHV0IGVsZW1lbnQgc2luY2UgZnVydGhlciBwaWNrcyBhcmUgbm90IGFsbG93ZWQuCiAgaW5wdXRFbGVtZW50LmRpc2FibGVkID0gdHJ1ZTsKCiAgZm9yIChjb25zdCBmaWxlIG9mIGZpbGVzKSB7CiAgICBjb25zdCBsaSA9IGRvY3VtZW50LmNyZWF0ZUVsZW1lbnQoJ2xpJyk7CiAgICBsaS5hcHBlbmQoc3BhbihmaWxlLm5hbWUsIHtmb250V2VpZ2h0OiAnYm9sZCd9KSk7CiAgICBsaS5hcHBlbmQoc3BhbigKICAgICAgICBgKCR7ZmlsZS50eXBlIHx8ICduL2EnfSkgLSAke2ZpbGUuc2l6ZX0gYnl0ZXMsIGAgKwogICAgICAgIGBsYXN0IG1vZGlmaWVkOiAkewogICAgICAgICAgICBmaWxlLmxhc3RNb2RpZmllZERhdGUgPyBmaWxlLmxhc3RNb2RpZmllZERhdGUudG9Mb2NhbGVEYXRlU3RyaW5nKCkgOgogICAgICAgICAgICAgICAgICAgICAgICAgICAgICAgICAgICAnbi9hJ30gLSBgKSk7CiAgICBjb25zdCBwZXJjZW50ID0gc3BhbignMCUgZG9uZScpOwogICAgbGkuYXBwZW5kQ2hpbGQocGVyY2VudCk7CgogICAgb3V0cHV0RWxlbWVudC5hcHBlbmRDaGlsZChsaSk7CgogICAgY29uc3QgZmlsZURhdGFQcm9taXNlID0gbmV3IFByb21pc2UoKHJlc29sdmUpID0+IHsKICAgICAgY29uc3QgcmVhZGVyID0gbmV3IEZpbGVSZWFkZXIoKTsKICAgICAgcmVhZGVyLm9ubG9hZCA9IChlKSA9PiB7CiAgICAgICAgcmVzb2x2ZShlLnRhcmdldC5yZXN1bHQpOwogICAgICB9OwogICAgICByZWFkZXIucmVhZEFzQXJyYXlCdWZmZXIoZmlsZSk7CiAgICB9KTsKICAgIC8vIFdhaXQgZm9yIHRoZSBkYXRhIHRvIGJlIHJlYWR5LgogICAgbGV0IGZpbGVEYXRhID0geWllbGQgewogICAgICBwcm9taXNlOiBmaWxlRGF0YVByb21pc2UsCiAgICAgIHJlc3BvbnNlOiB7CiAgICAgICAgYWN0aW9uOiAnY29udGludWUnLAogICAgICB9CiAgICB9OwoKICAgIC8vIFVzZSBhIGNodW5rZWQgc2VuZGluZyB0byBhdm9pZCBtZXNzYWdlIHNpemUgbGltaXRzLiBTZWUgYi82MjExNTY2MC4KICAgIGxldCBwb3NpdGlvbiA9IDA7CiAgICB3aGlsZSAocG9zaXRpb24gPCBmaWxlRGF0YS5ieXRlTGVuZ3RoKSB7CiAgICAgIGNvbnN0IGxlbmd0aCA9IE1hdGgubWluKGZpbGVEYXRhLmJ5dGVMZW5ndGggLSBwb3NpdGlvbiwgTUFYX1BBWUxPQURfU0laRSk7CiAgICAgIGNvbnN0IGNodW5rID0gbmV3IFVpbnQ4QXJyYXkoZmlsZURhdGEsIHBvc2l0aW9uLCBsZW5ndGgpOwogICAgICBwb3NpdGlvbiArPSBsZW5ndGg7CgogICAgICBjb25zdCBiYXNlNjQgPSBidG9hKFN0cmluZy5mcm9tQ2hhckNvZGUuYXBwbHkobnVsbCwgY2h1bmspKTsKICAgICAgeWllbGQgewogICAgICAgIHJlc3BvbnNlOiB7CiAgICAgICAgICBhY3Rpb246ICdhcHBlbmQnLAogICAgICAgICAgZmlsZTogZmlsZS5uYW1lLAogICAgICAgICAgZGF0YTogYmFzZTY0LAogICAgICAgIH0sCiAgICAgIH07CiAgICAgIHBlcmNlbnQudGV4dENvbnRlbnQgPQogICAgICAgICAgYCR7TWF0aC5yb3VuZCgocG9zaXRpb24gLyBmaWxlRGF0YS5ieXRlTGVuZ3RoKSAqIDEwMCl9JSBkb25lYDsKICAgIH0KICB9CgogIC8vIEFsbCBkb25lLgogIHlpZWxkIHsKICAgIHJlc3BvbnNlOiB7CiAgICAgIGFjdGlvbjogJ2NvbXBsZXRlJywKICAgIH0KICB9Owp9CgpzY29wZS5nb29nbGUgPSBzY29wZS5nb29nbGUgfHwge307CnNjb3BlLmdvb2dsZS5jb2xhYiA9IHNjb3BlLmdvb2dsZS5jb2xhYiB8fCB7fTsKc2NvcGUuZ29vZ2xlLmNvbGFiLl9maWxlcyA9IHsKICBfdXBsb2FkRmlsZXMsCiAgX3VwbG9hZEZpbGVzQ29udGludWUsCn07Cn0pKHNlbGYpOwo=",
              "ok": true,
              "headers": [
                [
                  "content-type",
                  "application/javascript"
                ]
              ],
              "status": 200,
              "status_text": ""
            }
          },
          "base_uri": "https://localhost:8080/",
          "height": 74
        }
      },
      "source": [
        "from google.colab import files\n",
        "uploaded = files.upload()"
      ],
      "execution_count": 0,
      "outputs": [
        {
          "output_type": "display_data",
          "data": {
            "text/html": [
              "\n",
              "     <input type=\"file\" id=\"files-7b8dc26b-9004-47d2-aadd-165e81a8b248\" name=\"files[]\" multiple disabled />\n",
              "     <output id=\"result-7b8dc26b-9004-47d2-aadd-165e81a8b248\">\n",
              "      Upload widget is only available when the cell has been executed in the\n",
              "      current browser session. Please rerun this cell to enable.\n",
              "      </output>\n",
              "      <script src=\"/nbextensions/google.colab/files.js\"></script> "
            ],
            "text/plain": [
              "<IPython.core.display.HTML object>"
            ]
          },
          "metadata": {
            "tags": []
          }
        },
        {
          "output_type": "stream",
          "text": [
            "Saving image classification.zip to image classification.zip\n"
          ],
          "name": "stdout"
        }
      ]
    },
    {
      "cell_type": "code",
      "metadata": {
        "id": "eg5KOksXfpc7",
        "colab_type": "code",
        "outputId": "85952e66-8bde-4f38-c5aa-e9f3c0e57ef9",
        "colab": {
          "resources": {
            "http://localhost:8080/nbextensions/google.colab/files.js": {
              "data": "Ly8gQ29weXJpZ2h0IDIwMTcgR29vZ2xlIExMQwovLwovLyBMaWNlbnNlZCB1bmRlciB0aGUgQXBhY2hlIExpY2Vuc2UsIFZlcnNpb24gMi4wICh0aGUgIkxpY2Vuc2UiKTsKLy8geW91IG1heSBub3QgdXNlIHRoaXMgZmlsZSBleGNlcHQgaW4gY29tcGxpYW5jZSB3aXRoIHRoZSBMaWNlbnNlLgovLyBZb3UgbWF5IG9idGFpbiBhIGNvcHkgb2YgdGhlIExpY2Vuc2UgYXQKLy8KLy8gICAgICBodHRwOi8vd3d3LmFwYWNoZS5vcmcvbGljZW5zZXMvTElDRU5TRS0yLjAKLy8KLy8gVW5sZXNzIHJlcXVpcmVkIGJ5IGFwcGxpY2FibGUgbGF3IG9yIGFncmVlZCB0byBpbiB3cml0aW5nLCBzb2Z0d2FyZQovLyBkaXN0cmlidXRlZCB1bmRlciB0aGUgTGljZW5zZSBpcyBkaXN0cmlidXRlZCBvbiBhbiAiQVMgSVMiIEJBU0lTLAovLyBXSVRIT1VUIFdBUlJBTlRJRVMgT1IgQ09ORElUSU9OUyBPRiBBTlkgS0lORCwgZWl0aGVyIGV4cHJlc3Mgb3IgaW1wbGllZC4KLy8gU2VlIHRoZSBMaWNlbnNlIGZvciB0aGUgc3BlY2lmaWMgbGFuZ3VhZ2UgZ292ZXJuaW5nIHBlcm1pc3Npb25zIGFuZAovLyBsaW1pdGF0aW9ucyB1bmRlciB0aGUgTGljZW5zZS4KCi8qKgogKiBAZmlsZW92ZXJ2aWV3IEhlbHBlcnMgZm9yIGdvb2dsZS5jb2xhYiBQeXRob24gbW9kdWxlLgogKi8KKGZ1bmN0aW9uKHNjb3BlKSB7CmZ1bmN0aW9uIHNwYW4odGV4dCwgc3R5bGVBdHRyaWJ1dGVzID0ge30pIHsKICBjb25zdCBlbGVtZW50ID0gZG9jdW1lbnQuY3JlYXRlRWxlbWVudCgnc3BhbicpOwogIGVsZW1lbnQudGV4dENvbnRlbnQgPSB0ZXh0OwogIGZvciAoY29uc3Qga2V5IG9mIE9iamVjdC5rZXlzKHN0eWxlQXR0cmlidXRlcykpIHsKICAgIGVsZW1lbnQuc3R5bGVba2V5XSA9IHN0eWxlQXR0cmlidXRlc1trZXldOwogIH0KICByZXR1cm4gZWxlbWVudDsKfQoKLy8gTWF4IG51bWJlciBvZiBieXRlcyB3aGljaCB3aWxsIGJlIHVwbG9hZGVkIGF0IGEgdGltZS4KY29uc3QgTUFYX1BBWUxPQURfU0laRSA9IDEwMCAqIDEwMjQ7Ci8vIE1heCBhbW91bnQgb2YgdGltZSB0byBibG9jayB3YWl0aW5nIGZvciB0aGUgdXNlci4KY29uc3QgRklMRV9DSEFOR0VfVElNRU9VVF9NUyA9IDMwICogMTAwMDsKCmZ1bmN0aW9uIF91cGxvYWRGaWxlcyhpbnB1dElkLCBvdXRwdXRJZCkgewogIGNvbnN0IHN0ZXBzID0gdXBsb2FkRmlsZXNTdGVwKGlucHV0SWQsIG91dHB1dElkKTsKICBjb25zdCBvdXRwdXRFbGVtZW50ID0gZG9jdW1lbnQuZ2V0RWxlbWVudEJ5SWQob3V0cHV0SWQpOwogIC8vIENhY2hlIHN0ZXBzIG9uIHRoZSBvdXRwdXRFbGVtZW50IHRvIG1ha2UgaXQgYXZhaWxhYmxlIGZvciB0aGUgbmV4dCBjYWxsCiAgLy8gdG8gdXBsb2FkRmlsZXNDb250aW51ZSBmcm9tIFB5dGhvbi4KICBvdXRwdXRFbGVtZW50LnN0ZXBzID0gc3RlcHM7CgogIHJldHVybiBfdXBsb2FkRmlsZXNDb250aW51ZShvdXRwdXRJZCk7Cn0KCi8vIFRoaXMgaXMgcm91Z2hseSBhbiBhc3luYyBnZW5lcmF0b3IgKG5vdCBzdXBwb3J0ZWQgaW4gdGhlIGJyb3dzZXIgeWV0KSwKLy8gd2hlcmUgdGhlcmUgYXJlIG11bHRpcGxlIGFzeW5jaHJvbm91cyBzdGVwcyBhbmQgdGhlIFB5dGhvbiBzaWRlIGlzIGdvaW5nCi8vIHRvIHBvbGwgZm9yIGNvbXBsZXRpb24gb2YgZWFjaCBzdGVwLgovLyBUaGlzIHVzZXMgYSBQcm9taXNlIHRvIGJsb2NrIHRoZSBweXRob24gc2lkZSBvbiBjb21wbGV0aW9uIG9mIGVhY2ggc3RlcCwKLy8gdGhlbiBwYXNzZXMgdGhlIHJlc3VsdCBvZiB0aGUgcHJldmlvdXMgc3RlcCBhcyB0aGUgaW5wdXQgdG8gdGhlIG5leHQgc3RlcC4KZnVuY3Rpb24gX3VwbG9hZEZpbGVzQ29udGludWUob3V0cHV0SWQpIHsKICBjb25zdCBvdXRwdXRFbGVtZW50ID0gZG9jdW1lbnQuZ2V0RWxlbWVudEJ5SWQob3V0cHV0SWQpOwogIGNvbnN0IHN0ZXBzID0gb3V0cHV0RWxlbWVudC5zdGVwczsKCiAgY29uc3QgbmV4dCA9IHN0ZXBzLm5leHQob3V0cHV0RWxlbWVudC5sYXN0UHJvbWlzZVZhbHVlKTsKICByZXR1cm4gUHJvbWlzZS5yZXNvbHZlKG5leHQudmFsdWUucHJvbWlzZSkudGhlbigodmFsdWUpID0+IHsKICAgIC8vIENhY2hlIHRoZSBsYXN0IHByb21pc2UgdmFsdWUgdG8gbWFrZSBpdCBhdmFpbGFibGUgdG8gdGhlIG5leHQKICAgIC8vIHN0ZXAgb2YgdGhlIGdlbmVyYXRvci4KICAgIG91dHB1dEVsZW1lbnQubGFzdFByb21pc2VWYWx1ZSA9IHZhbHVlOwogICAgcmV0dXJuIG5leHQudmFsdWUucmVzcG9uc2U7CiAgfSk7Cn0KCi8qKgogKiBHZW5lcmF0b3IgZnVuY3Rpb24gd2hpY2ggaXMgY2FsbGVkIGJldHdlZW4gZWFjaCBhc3luYyBzdGVwIG9mIHRoZSB1cGxvYWQKICogcHJvY2Vzcy4KICogQHBhcmFtIHtzdHJpbmd9IGlucHV0SWQgRWxlbWVudCBJRCBvZiB0aGUgaW5wdXQgZmlsZSBwaWNrZXIgZWxlbWVudC4KICogQHBhcmFtIHtzdHJpbmd9IG91dHB1dElkIEVsZW1lbnQgSUQgb2YgdGhlIG91dHB1dCBkaXNwbGF5LgogKiBAcmV0dXJuIHshSXRlcmFibGU8IU9iamVjdD59IEl0ZXJhYmxlIG9mIG5leHQgc3RlcHMuCiAqLwpmdW5jdGlvbiogdXBsb2FkRmlsZXNTdGVwKGlucHV0SWQsIG91dHB1dElkKSB7CiAgY29uc3QgaW5wdXRFbGVtZW50ID0gZG9jdW1lbnQuZ2V0RWxlbWVudEJ5SWQoaW5wdXRJZCk7CiAgaW5wdXRFbGVtZW50LmRpc2FibGVkID0gZmFsc2U7CgogIGNvbnN0IG91dHB1dEVsZW1lbnQgPSBkb2N1bWVudC5nZXRFbGVtZW50QnlJZChvdXRwdXRJZCk7CiAgb3V0cHV0RWxlbWVudC5pbm5lckhUTUwgPSAnJzsKCiAgY29uc3QgcGlja2VkUHJvbWlzZSA9IG5ldyBQcm9taXNlKChyZXNvbHZlKSA9PiB7CiAgICBpbnB1dEVsZW1lbnQuYWRkRXZlbnRMaXN0ZW5lcignY2hhbmdlJywgKGUpID0+IHsKICAgICAgcmVzb2x2ZShlLnRhcmdldC5maWxlcyk7CiAgICB9KTsKICB9KTsKCiAgY29uc3QgY2FuY2VsID0gZG9jdW1lbnQuY3JlYXRlRWxlbWVudCgnYnV0dG9uJyk7CiAgaW5wdXRFbGVtZW50LnBhcmVudEVsZW1lbnQuYXBwZW5kQ2hpbGQoY2FuY2VsKTsKICBjYW5jZWwudGV4dENvbnRlbnQgPSAnQ2FuY2VsIHVwbG9hZCc7CiAgY29uc3QgY2FuY2VsUHJvbWlzZSA9IG5ldyBQcm9taXNlKChyZXNvbHZlKSA9PiB7CiAgICBjYW5jZWwub25jbGljayA9ICgpID0+IHsKICAgICAgcmVzb2x2ZShudWxsKTsKICAgIH07CiAgfSk7CgogIC8vIENhbmNlbCB1cGxvYWQgaWYgdXNlciBoYXNuJ3QgcGlja2VkIGFueXRoaW5nIGluIHRpbWVvdXQuCiAgY29uc3QgdGltZW91dFByb21pc2UgPSBuZXcgUHJvbWlzZSgocmVzb2x2ZSkgPT4gewogICAgc2V0VGltZW91dCgoKSA9PiB7CiAgICAgIHJlc29sdmUobnVsbCk7CiAgICB9LCBGSUxFX0NIQU5HRV9USU1FT1VUX01TKTsKICB9KTsKCiAgLy8gV2FpdCBmb3IgdGhlIHVzZXIgdG8gcGljayB0aGUgZmlsZXMuCiAgY29uc3QgZmlsZXMgPSB5aWVsZCB7CiAgICBwcm9taXNlOiBQcm9taXNlLnJhY2UoW3BpY2tlZFByb21pc2UsIHRpbWVvdXRQcm9taXNlLCBjYW5jZWxQcm9taXNlXSksCiAgICByZXNwb25zZTogewogICAgICBhY3Rpb246ICdzdGFydGluZycsCiAgICB9CiAgfTsKCiAgaWYgKCFmaWxlcykgewogICAgcmV0dXJuIHsKICAgICAgcmVzcG9uc2U6IHsKICAgICAgICBhY3Rpb246ICdjb21wbGV0ZScsCiAgICAgIH0KICAgIH07CiAgfQoKICBjYW5jZWwucmVtb3ZlKCk7CgogIC8vIERpc2FibGUgdGhlIGlucHV0IGVsZW1lbnQgc2luY2UgZnVydGhlciBwaWNrcyBhcmUgbm90IGFsbG93ZWQuCiAgaW5wdXRFbGVtZW50LmRpc2FibGVkID0gdHJ1ZTsKCiAgZm9yIChjb25zdCBmaWxlIG9mIGZpbGVzKSB7CiAgICBjb25zdCBsaSA9IGRvY3VtZW50LmNyZWF0ZUVsZW1lbnQoJ2xpJyk7CiAgICBsaS5hcHBlbmQoc3BhbihmaWxlLm5hbWUsIHtmb250V2VpZ2h0OiAnYm9sZCd9KSk7CiAgICBsaS5hcHBlbmQoc3BhbigKICAgICAgICBgKCR7ZmlsZS50eXBlIHx8ICduL2EnfSkgLSAke2ZpbGUuc2l6ZX0gYnl0ZXMsIGAgKwogICAgICAgIGBsYXN0IG1vZGlmaWVkOiAkewogICAgICAgICAgICBmaWxlLmxhc3RNb2RpZmllZERhdGUgPyBmaWxlLmxhc3RNb2RpZmllZERhdGUudG9Mb2NhbGVEYXRlU3RyaW5nKCkgOgogICAgICAgICAgICAgICAgICAgICAgICAgICAgICAgICAgICAnbi9hJ30gLSBgKSk7CiAgICBjb25zdCBwZXJjZW50ID0gc3BhbignMCUgZG9uZScpOwogICAgbGkuYXBwZW5kQ2hpbGQocGVyY2VudCk7CgogICAgb3V0cHV0RWxlbWVudC5hcHBlbmRDaGlsZChsaSk7CgogICAgY29uc3QgZmlsZURhdGFQcm9taXNlID0gbmV3IFByb21pc2UoKHJlc29sdmUpID0+IHsKICAgICAgY29uc3QgcmVhZGVyID0gbmV3IEZpbGVSZWFkZXIoKTsKICAgICAgcmVhZGVyLm9ubG9hZCA9IChlKSA9PiB7CiAgICAgICAgcmVzb2x2ZShlLnRhcmdldC5yZXN1bHQpOwogICAgICB9OwogICAgICByZWFkZXIucmVhZEFzQXJyYXlCdWZmZXIoZmlsZSk7CiAgICB9KTsKICAgIC8vIFdhaXQgZm9yIHRoZSBkYXRhIHRvIGJlIHJlYWR5LgogICAgbGV0IGZpbGVEYXRhID0geWllbGQgewogICAgICBwcm9taXNlOiBmaWxlRGF0YVByb21pc2UsCiAgICAgIHJlc3BvbnNlOiB7CiAgICAgICAgYWN0aW9uOiAnY29udGludWUnLAogICAgICB9CiAgICB9OwoKICAgIC8vIFVzZSBhIGNodW5rZWQgc2VuZGluZyB0byBhdm9pZCBtZXNzYWdlIHNpemUgbGltaXRzLiBTZWUgYi82MjExNTY2MC4KICAgIGxldCBwb3NpdGlvbiA9IDA7CiAgICB3aGlsZSAocG9zaXRpb24gPCBmaWxlRGF0YS5ieXRlTGVuZ3RoKSB7CiAgICAgIGNvbnN0IGxlbmd0aCA9IE1hdGgubWluKGZpbGVEYXRhLmJ5dGVMZW5ndGggLSBwb3NpdGlvbiwgTUFYX1BBWUxPQURfU0laRSk7CiAgICAgIGNvbnN0IGNodW5rID0gbmV3IFVpbnQ4QXJyYXkoZmlsZURhdGEsIHBvc2l0aW9uLCBsZW5ndGgpOwogICAgICBwb3NpdGlvbiArPSBsZW5ndGg7CgogICAgICBjb25zdCBiYXNlNjQgPSBidG9hKFN0cmluZy5mcm9tQ2hhckNvZGUuYXBwbHkobnVsbCwgY2h1bmspKTsKICAgICAgeWllbGQgewogICAgICAgIHJlc3BvbnNlOiB7CiAgICAgICAgICBhY3Rpb246ICdhcHBlbmQnLAogICAgICAgICAgZmlsZTogZmlsZS5uYW1lLAogICAgICAgICAgZGF0YTogYmFzZTY0LAogICAgICAgIH0sCiAgICAgIH07CiAgICAgIHBlcmNlbnQudGV4dENvbnRlbnQgPQogICAgICAgICAgYCR7TWF0aC5yb3VuZCgocG9zaXRpb24gLyBmaWxlRGF0YS5ieXRlTGVuZ3RoKSAqIDEwMCl9JSBkb25lYDsKICAgIH0KICB9CgogIC8vIEFsbCBkb25lLgogIHlpZWxkIHsKICAgIHJlc3BvbnNlOiB7CiAgICAgIGFjdGlvbjogJ2NvbXBsZXRlJywKICAgIH0KICB9Owp9CgpzY29wZS5nb29nbGUgPSBzY29wZS5nb29nbGUgfHwge307CnNjb3BlLmdvb2dsZS5jb2xhYiA9IHNjb3BlLmdvb2dsZS5jb2xhYiB8fCB7fTsKc2NvcGUuZ29vZ2xlLmNvbGFiLl9maWxlcyA9IHsKICBfdXBsb2FkRmlsZXMsCiAgX3VwbG9hZEZpbGVzQ29udGludWUsCn07Cn0pKHNlbGYpOwo=",
              "ok": true,
              "headers": [
                [
                  "content-type",
                  "application/javascript"
                ]
              ],
              "status": 200,
              "status_text": ""
            }
          },
          "base_uri": "https://localhost:8080/",
          "height": 74
        }
      },
      "source": [
        "from google.colab import files\n",
        "uploaded = files.upload()"
      ],
      "execution_count": 0,
      "outputs": [
        {
          "output_type": "display_data",
          "data": {
            "text/html": [
              "\n",
              "     <input type=\"file\" id=\"files-828817d4-0da5-4f09-9acc-f1e9fca7f2cb\" name=\"files[]\" multiple disabled />\n",
              "     <output id=\"result-828817d4-0da5-4f09-9acc-f1e9fca7f2cb\">\n",
              "      Upload widget is only available when the cell has been executed in the\n",
              "      current browser session. Please rerun this cell to enable.\n",
              "      </output>\n",
              "      <script src=\"/nbextensions/google.colab/files.js\"></script> "
            ],
            "text/plain": [
              "<IPython.core.display.HTML object>"
            ]
          },
          "metadata": {
            "tags": []
          }
        },
        {
          "output_type": "stream",
          "text": [
            "Saving image classification.zip to image classification (1).zip\n"
          ],
          "name": "stdout"
        }
      ]
    },
    {
      "cell_type": "code",
      "metadata": {
        "id": "Ds45vajebvcr",
        "colab_type": "code",
        "outputId": "74d0a41d-33d6-4423-a634-dadb0803256c",
        "colab": {
          "base_uri": "https://localhost:8080/",
          "height": 340
        }
      },
      "source": [
        "!unzip \"/content/image classification (1).zip\""
      ],
      "execution_count": 0,
      "outputs": [
        {
          "output_type": "stream",
          "text": [
            "Archive:  /content/image classification (1).zip\n",
            "   creating: test/\n",
            "   creating: test/2 way splitter/\n",
            "  inflating: test/2 way splitter/1.JPG  \n",
            "  inflating: test/2 way splitter/2.JPG  \n",
            "   creating: test/amp/\n",
            "  inflating: test/amp/2.JPG          \n",
            "  inflating: test/amp/Capture.JPG    \n",
            "   creating: train/\n",
            "   creating: train/2 way splitter/\n",
            "  inflating: train/2 way splitter/2 way splitter.JPG  \n",
            "  inflating: train/2 way splitter/2.JPG  \n",
            "  inflating: train/2 way splitter/4.JPG  \n",
            "  inflating: train/2 way splitter/Capture.JPG  \n",
            "  inflating: train/2 way splitter/Capture2.JPG  \n",
            "  inflating: train/2 way splitter/Capture4.JPG  \n",
            "   creating: train/amp/\n",
            "  inflating: train/amp/2.JPG         \n",
            "  inflating: train/amp/Capture7.JPG  \n"
          ],
          "name": "stdout"
        }
      ]
    },
    {
      "cell_type": "code",
      "metadata": {
        "id": "BMZk1X2RFU6i",
        "colab_type": "code",
        "colab": {}
      },
      "source": [
        "from keras.models import Sequential\n",
        "from keras.layers import Conv2D\n",
        "from keras.layers import MaxPooling2D\n",
        "from keras.layers import Flatten\n",
        "from keras.layers import Dense"
      ],
      "execution_count": 0,
      "outputs": []
    },
    {
      "cell_type": "code",
      "metadata": {
        "id": "Dakrs6oBFvx6",
        "colab_type": "code",
        "colab": {}
      },
      "source": [
        "classifier = Sequential()\n"
      ],
      "execution_count": 0,
      "outputs": []
    },
    {
      "cell_type": "code",
      "metadata": {
        "id": "p3wcobORFx86",
        "colab_type": "code",
        "colab": {}
      },
      "source": [
        "classifier.add(Conv2D(32,(3,3), input_shape = (64,64,3), activation = \"relu\"))"
      ],
      "execution_count": 0,
      "outputs": []
    },
    {
      "cell_type": "code",
      "metadata": {
        "id": "X8k7HacoF1wI",
        "colab_type": "code",
        "colab": {}
      },
      "source": [
        "classifier.add(MaxPooling2D(pool_size = (2,2)))"
      ],
      "execution_count": 0,
      "outputs": []
    },
    {
      "cell_type": "code",
      "metadata": {
        "id": "IkOf4v-phxAM",
        "colab_type": "code",
        "colab": {}
      },
      "source": [
        "classifier.add(Flatten())"
      ],
      "execution_count": 0,
      "outputs": []
    },
    {
      "cell_type": "code",
      "metadata": {
        "id": "JK8-ijajF4u2",
        "colab_type": "code",
        "outputId": "b3772bc2-2201-4086-fa56-94714c4a1e51",
        "colab": {
          "base_uri": "https://localhost:8080/",
          "height": 105
        }
      },
      "source": [
        "classifier.add(Dense(output_dim = 128, activation = \"relu\"))\n",
        "classifier.add(Dense(output_dim = 1, activation = \"sigmoid\"))"
      ],
      "execution_count": 0,
      "outputs": [
        {
          "output_type": "stream",
          "text": [
            "/usr/local/lib/python3.6/dist-packages/ipykernel_launcher.py:1: UserWarning: Update your `Dense` call to the Keras 2 API: `Dense(activation=\"relu\", units=128)`\n",
            "  \"\"\"Entry point for launching an IPython kernel.\n",
            "/usr/local/lib/python3.6/dist-packages/ipykernel_launcher.py:2: UserWarning: Update your `Dense` call to the Keras 2 API: `Dense(activation=\"sigmoid\", units=1)`\n",
            "  \n"
          ],
          "name": "stderr"
        }
      ]
    },
    {
      "cell_type": "code",
      "metadata": {
        "id": "LI5bszelF6wk",
        "colab_type": "code",
        "colab": {}
      },
      "source": [
        "classifier.compile(optimizer = \"adam\", loss = \"binary_crossentropy\", metrics = [\"accuracy\"])"
      ],
      "execution_count": 0,
      "outputs": []
    },
    {
      "cell_type": "code",
      "metadata": {
        "id": "1OXPZo8CF8qN",
        "colab_type": "code",
        "outputId": "6bd20550-2d49-41a5-c749-d750edc0927e",
        "colab": {
          "base_uri": "https://localhost:8080/",
          "height": 34
        }
      },
      "source": [
        "train_datagen = ImageDataGenerator( rescale = 1./255,shear_range = 0.2,\n",
        "                                  zoom_range=0.2, horizontal_flip = True)\n",
        "training_set = train_datagen.flow_from_directory(\"/content/training_set\",target_size=(64,64),batch_size=32,\n",
        "                                                class_mode = \"binary\")"
      ],
      "execution_count": 0,
      "outputs": [
        {
          "output_type": "stream",
          "text": [
            "Found 1000 images belonging to 2 classes.\n"
          ],
          "name": "stdout"
        }
      ]
    },
    {
      "cell_type": "code",
      "metadata": {
        "id": "b-plAGCBF_2x",
        "colab_type": "code",
        "outputId": "6af79156-7a32-4b7b-c840-6d8a76b78d9c",
        "colab": {
          "base_uri": "https://localhost:8080/",
          "height": 34
        }
      },
      "source": [
        "test_datagen = ImageDataGenerator(rescale=1./255)\n",
        "test_set = test_datagen.flow_from_directory(\"/content/test_set\",target_size=(64,64),batch_size=32,\n",
        "                                           class_mode = \"binary\")"
      ],
      "execution_count": 0,
      "outputs": [
        {
          "output_type": "stream",
          "text": [
            "Found 264 images belonging to 2 classes.\n"
          ],
          "name": "stdout"
        }
      ]
    },
    {
      "cell_type": "code",
      "metadata": {
        "id": "TgXSQ1WuZKWe",
        "colab_type": "code",
        "outputId": "a97ef1b1-e049-424a-fc86-3fd7f41c552e",
        "colab": {
          "base_uri": "https://localhost:8080/",
          "height": 306
        }
      },
      "source": [
        "classifier.summary()"
      ],
      "execution_count": 0,
      "outputs": [
        {
          "output_type": "stream",
          "text": [
            "_________________________________________________________________\n",
            "Layer (type)                 Output Shape              Param #   \n",
            "=================================================================\n",
            "conv2d_5 (Conv2D)            (None, 62, 62, 32)        896       \n",
            "_________________________________________________________________\n",
            "max_pooling2d_5 (MaxPooling2 (None, 31, 31, 32)        0         \n",
            "_________________________________________________________________\n",
            "flatten_2 (Flatten)          (None, 30752)             0         \n",
            "_________________________________________________________________\n",
            "dense_11 (Dense)             (None, 128)               3936384   \n",
            "_________________________________________________________________\n",
            "dense_12 (Dense)             (None, 1)                 129       \n",
            "=================================================================\n",
            "Total params: 3,937,409\n",
            "Trainable params: 3,937,409\n",
            "Non-trainable params: 0\n",
            "_________________________________________________________________\n"
          ],
          "name": "stdout"
        }
      ]
    },
    {
      "cell_type": "code",
      "metadata": {
        "id": "C6NVo7bhmUDp",
        "colab_type": "code",
        "outputId": "cfab68fc-e0de-4ca2-fbc6-ca4cc63951a6",
        "colab": {
          "base_uri": "https://localhost:8080/",
          "height": 394
        }
      },
      "source": [
        "classifier.fit_generator(training_set,steps_per_epoch=602,epochs=10,validation_data = test_set,validation_steps=800)"
      ],
      "execution_count": 0,
      "outputs": [
        {
          "output_type": "stream",
          "text": [
            "Epoch 1/10\n",
            "602/602 [==============================] - 144s 239ms/step - loss: 0.5650 - acc: 0.7159 - val_loss: 0.5851 - val_acc: 0.7576\n",
            "Epoch 2/10\n",
            "602/602 [==============================] - 137s 228ms/step - loss: 0.3610 - acc: 0.8452 - val_loss: 0.6297 - val_acc: 0.7499\n",
            "Epoch 3/10\n",
            "602/602 [==============================] - 135s 225ms/step - loss: 0.2439 - acc: 0.9005 - val_loss: 1.0204 - val_acc: 0.6858\n",
            "Epoch 4/10\n",
            "602/602 [==============================] - 134s 223ms/step - loss: 0.1622 - acc: 0.9391 - val_loss: 0.9170 - val_acc: 0.7236\n",
            "Epoch 5/10\n",
            "602/602 [==============================] - 134s 223ms/step - loss: 0.1129 - acc: 0.9609 - val_loss: 0.9368 - val_acc: 0.7386\n",
            "Epoch 6/10\n",
            "602/602 [==============================] - 134s 222ms/step - loss: 0.0728 - acc: 0.9763 - val_loss: 1.1436 - val_acc: 0.7423\n",
            "Epoch 7/10\n",
            "602/602 [==============================] - 136s 226ms/step - loss: 0.0568 - acc: 0.9828 - val_loss: 1.0998 - val_acc: 0.7309\n",
            "Epoch 8/10\n",
            "602/602 [==============================] - 138s 229ms/step - loss: 0.0412 - acc: 0.9876 - val_loss: 1.6909 - val_acc: 0.7010\n",
            "Epoch 9/10\n",
            "602/602 [==============================] - 137s 228ms/step - loss: 0.0379 - acc: 0.9881 - val_loss: 1.3802 - val_acc: 0.7577\n",
            "Epoch 10/10\n",
            "602/602 [==============================] - 138s 229ms/step - loss: 0.0397 - acc: 0.9881 - val_loss: 1.1866 - val_acc: 0.7499\n"
          ],
          "name": "stdout"
        },
        {
          "output_type": "execute_result",
          "data": {
            "text/plain": [
              "<keras.callbacks.History at 0x7fba3871a978>"
            ]
          },
          "metadata": {
            "tags": []
          },
          "execution_count": 80
        }
      ]
    },
    {
      "cell_type": "code",
      "metadata": {
        "id": "iSAZ7NCXZJPh",
        "colab_type": "code",
        "outputId": "2d0ad5d1-cf01-4409-b68d-5c5883de5491",
        "colab": {
          "resources": {
            "http://localhost:8080/nbextensions/google.colab/files.js": {
              "data": "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",
              "ok": true,
              "headers": [
                [
                  "content-type",
                  "application/javascript"
                ]
              ],
              "status": 200,
              "status_text": ""
            }
          },
          "base_uri": "https://localhost:8080/",
          "height": 108
        }
      },
      "source": [
        "upload = files.upload()"
      ],
      "execution_count": 0,
      "outputs": [
        {
          "output_type": "display_data",
          "data": {
            "text/html": [
              "\n",
              "     <input type=\"file\" id=\"files-e4741985-e657-4353-81a4-88eb179d36d3\" name=\"files[]\" multiple disabled />\n",
              "     <output id=\"result-e4741985-e657-4353-81a4-88eb179d36d3\">\n",
              "      Upload widget is only available when the cell has been executed in the\n",
              "      current browser session. Please rerun this cell to enable.\n",
              "      </output>\n",
              "      <script src=\"/nbextensions/google.colab/files.js\"></script> "
            ],
            "text/plain": [
              "<IPython.core.display.HTML object>"
            ]
          },
          "metadata": {
            "tags": []
          }
        },
        {
          "output_type": "stream",
          "text": [
            "Saving dog.4029.jpg to dog.4029.jpg\n",
            "Saving dog.4133.jpg to dog.4133.jpg\n"
          ],
          "name": "stdout"
        }
      ]
    },
    {
      "cell_type": "code",
      "metadata": {
        "id": "s5ReC-h9mVLb",
        "colab_type": "code",
        "outputId": "1966e3f4-a84f-4e93-ee20-fd74eddf1227",
        "colab": {
          "resources": {
            "http://localhost:8080/nbextensions/google.colab/files.js": {
              "data": "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",
              "ok": true,
              "headers": [
                [
                  "content-type",
                  "application/javascript"
                ]
              ],
              "status": 200,
              "status_text": ""
            }
          },
          "base_uri": "https://localhost:8080/",
          "height": 108
        }
      },
      "source": [
        "upload = files.upload()"
      ],
      "execution_count": 0,
      "outputs": [
        {
          "output_type": "display_data",
          "data": {
            "text/html": [
              "\n",
              "     <input type=\"file\" id=\"files-349b0bbd-0b00-4e88-8885-051638e985cf\" name=\"files[]\" multiple disabled />\n",
              "     <output id=\"result-349b0bbd-0b00-4e88-8885-051638e985cf\">\n",
              "      Upload widget is only available when the cell has been executed in the\n",
              "      current browser session. Please rerun this cell to enable.\n",
              "      </output>\n",
              "      <script src=\"/nbextensions/google.colab/files.js\"></script> "
            ],
            "text/plain": [
              "<IPython.core.display.HTML object>"
            ]
          },
          "metadata": {
            "tags": []
          }
        },
        {
          "output_type": "stream",
          "text": [
            "Saving cat.4134.jpg to cat.4134.jpg\n",
            "Saving cat.4135.jpg to cat.4135.jpg\n"
          ],
          "name": "stdout"
        }
      ]
    },
    {
      "cell_type": "code",
      "metadata": {
        "id": "fryGDWFCtS_i",
        "colab_type": "code",
        "colab": {}
      },
      "source": [
        "import numpy as np"
      ],
      "execution_count": 0,
      "outputs": []
    },
    {
      "cell_type": "code",
      "metadata": {
        "id": "wb5KDXreqtvp",
        "colab_type": "code",
        "outputId": "0e8dc1f0-0156-4a2b-aec1-259e01cbc795",
        "colab": {
          "base_uri": "https://localhost:8080/",
          "height": 51
        }
      },
      "source": [
        "from keras.preprocessing import image\n",
        "test = image.load_img(\"/content/dog.4133.jpg\",target_size = (64,64))\n",
        "test = image.img_to_array(test)\n",
        "test = np.expand_dims(test,axis=0)\n",
        "result = classifier.predict(test)\n",
        "training_set.class_indices\n",
        "if result[0][0] >= 0.5:\n",
        "  prediction = \"dog\"\n",
        "else:\n",
        "  prediction = \"cat\"\n",
        "print(prediction)\n",
        "print(result)"
      ],
      "execution_count": 0,
      "outputs": [
        {
          "output_type": "stream",
          "text": [
            "dog\n",
            "[[1.]]\n"
          ],
          "name": "stdout"
        }
      ]
    },
    {
      "cell_type": "code",
      "metadata": {
        "id": "_2GaqEXMtQtY",
        "colab_type": "code",
        "outputId": "9c47325d-3038-440a-d268-a811834440de",
        "colab": {
          "base_uri": "https://localhost:8080/",
          "height": 286
        }
      },
      "source": [
        "test = image.load_img(\"/content/cat.4134.jpg\",target_size = (64,64))\n",
        "test = image.img_to_array(test)\n",
        "plt.imshow(test/255)"
      ],
      "execution_count": 0,
      "outputs": [
        {
          "output_type": "execute_result",
          "data": {
            "text/plain": [
              "<matplotlib.image.AxesImage at 0x7fba36be8be0>"
            ]
          },
          "metadata": {
            "tags": []
          },
          "execution_count": 105
        },
        {
          "output_type": "display_data",
          "data": {
            "image/png": "[encoded data removed]",
            "text/plain": [
              "<Figure size 432x288 with 1 Axes>"
            ]
          },
          "metadata": {
            "tags": []
          }
        }
      ]
    },
    {
      "cell_type": "code",
      "metadata": {
        "id": "AxHCsJ3it3ta",
        "colab_type": "code",
        "colab": {}
      },
      "source": [
        ""
      ],
      "execution_count": 0,
      "outputs": []
    },
    {
      "cell_type": "code",
      "metadata": {
        "id": "tC740ZXXtoWg",
        "colab_type": "code",
        "colab": {}
      },
      "source": [
        ""
      ],
      "execution_count": 0,
      "outputs": []
    }
  ]
}